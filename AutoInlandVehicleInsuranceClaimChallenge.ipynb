{
  "nbformat": 4,
  "nbformat_minor": 0,
  "metadata": {
    "colab": {
      "name": "AutoInlandVehicleInsuranceClaimChallenge.ipynb",
      "provenance": [],
      "authorship_tag": "ABX9TyM+kD8tHRP5Herq01pJKSFG"
    },
    "kernelspec": {
      "name": "python3",
      "display_name": "Python 3"
    },
    "language_info": {
      "name": "python"
    }
  },
  "cells": [
    {
      "cell_type": "markdown",
      "metadata": {
        "id": "wFnrmhGbR74H"
      },
      "source": [
        "#**Auto Inland Vehicule Insurance Claim Challenge**"
      ]
    },
    {
      "cell_type": "markdown",
      "metadata": {
        "id": "2iUrxiFrR3Xn"
      },
      "source": [
        "# Importing libraries"
      ]
    },
    {
      "cell_type": "code",
      "metadata": {
        "id": "uhrWHmawSz1h"
      },
      "source": [
        "!pip install plotly\n",
        "!pip install catboost"
      ],
      "execution_count": null,
      "outputs": []
    },
    {
      "cell_type": "code",
      "metadata": {
        "id": "aGo9MIhwRZXS"
      },
      "source": [
        "import pandas as pd\n",
        "import numpy as np\n",
        "import datetime as dt\n",
        "from tqdm.notebook import tqdm_notebook\n",
        "import seaborn as sns\n",
        "import matplotlib.pyplot as plt\n",
        "\n",
        "from sklearn.metrics import accuracy_score,confusion_matrix,recall_score,precision_recall_curve, f1_score, classification_report, roc_curve, roc_auc_score\n",
        "from sklearn.preprocessing import LabelEncoder\n",
        "from sklearn.model_selection import StratifiedKFold, StratifiedShuffleSplit\n",
        "\n",
        "import lightgbm as lgb\n",
        "from lightgbm import LGBMClassifier\n",
        "from catboost import CatBoostClassifier\n",
        "\n",
        "\n",
        "from sklearn.feature_selection import VarianceThreshold\n",
        "\n",
        "import warnings\n",
        "warnings.filterwarnings('ignore')\n",
        "from collections import Counter \n",
        "\n",
        "import random\n",
        "random.seed(123)"
      ],
      "execution_count": 50,
      "outputs": []
    },
    {
      "cell_type": "markdown",
      "metadata": {
        "id": "pbisNzZkSd7-"
      },
      "source": [
        "# Reading the data into python¶\n"
      ]
    },
    {
      "cell_type": "code",
      "metadata": {
        "colab": {
          "base_uri": "https://localhost:8080/",
          "height": 294
        },
        "id": "mABivaPrSRcF",
        "outputId": "32a2f240-4895-4c1c-b6c6-6b6619990e0b"
      },
      "source": [
        "# Load files into a pandas dataframe\n",
        "train = pd.read_csv('Train.csv')\n",
        "train.head(3)"
      ],
      "execution_count": 3,
      "outputs": [
        {
          "output_type": "execute_result",
          "data": {
            "text/html": [
              "\n",
              "  <div id=\"df-658d308c-3f7b-4c97-8aef-f3932b92a594\">\n",
              "    <div class=\"colab-df-container\">\n",
              "      <div>\n",
              "<style scoped>\n",
              "    .dataframe tbody tr th:only-of-type {\n",
              "        vertical-align: middle;\n",
              "    }\n",
              "\n",
              "    .dataframe tbody tr th {\n",
              "        vertical-align: top;\n",
              "    }\n",
              "\n",
              "    .dataframe thead th {\n",
              "        text-align: right;\n",
              "    }\n",
              "</style>\n",
              "<table border=\"1\" class=\"dataframe\">\n",
              "  <thead>\n",
              "    <tr style=\"text-align: right;\">\n",
              "      <th></th>\n",
              "      <th>ID</th>\n",
              "      <th>Policy Start Date</th>\n",
              "      <th>Policy End Date</th>\n",
              "      <th>Gender</th>\n",
              "      <th>Age</th>\n",
              "      <th>First Transaction Date</th>\n",
              "      <th>No_Pol</th>\n",
              "      <th>Car_Category</th>\n",
              "      <th>Subject_Car_Colour</th>\n",
              "      <th>Subject_Car_Make</th>\n",
              "      <th>LGA_Name</th>\n",
              "      <th>State</th>\n",
              "      <th>ProductName</th>\n",
              "      <th>target</th>\n",
              "    </tr>\n",
              "  </thead>\n",
              "  <tbody>\n",
              "    <tr>\n",
              "      <th>0</th>\n",
              "      <td>ID_0040R73</td>\n",
              "      <td>2010-05-14</td>\n",
              "      <td>2011-05-13</td>\n",
              "      <td>Male</td>\n",
              "      <td>30</td>\n",
              "      <td>2010-05-14</td>\n",
              "      <td>1</td>\n",
              "      <td>Saloon</td>\n",
              "      <td>Black</td>\n",
              "      <td>TOYOTA</td>\n",
              "      <td>NaN</td>\n",
              "      <td>NaN</td>\n",
              "      <td>Car Classic</td>\n",
              "      <td>0</td>\n",
              "    </tr>\n",
              "    <tr>\n",
              "      <th>1</th>\n",
              "      <td>ID_0046BNK</td>\n",
              "      <td>2010-11-29</td>\n",
              "      <td>2011-11-28</td>\n",
              "      <td>Female</td>\n",
              "      <td>79</td>\n",
              "      <td>2010-11-29</td>\n",
              "      <td>1</td>\n",
              "      <td>JEEP</td>\n",
              "      <td>Grey</td>\n",
              "      <td>TOYOTA</td>\n",
              "      <td>NaN</td>\n",
              "      <td>NaN</td>\n",
              "      <td>Car Classic</td>\n",
              "      <td>1</td>\n",
              "    </tr>\n",
              "    <tr>\n",
              "      <th>2</th>\n",
              "      <td>ID_005QMC3</td>\n",
              "      <td>2010-03-21</td>\n",
              "      <td>2011-03-20</td>\n",
              "      <td>Male</td>\n",
              "      <td>43</td>\n",
              "      <td>2010-03-21</td>\n",
              "      <td>1</td>\n",
              "      <td>Saloon</td>\n",
              "      <td>Red</td>\n",
              "      <td>TOYOTA</td>\n",
              "      <td>NaN</td>\n",
              "      <td>NaN</td>\n",
              "      <td>Car Classic</td>\n",
              "      <td>0</td>\n",
              "    </tr>\n",
              "  </tbody>\n",
              "</table>\n",
              "</div>\n",
              "      <button class=\"colab-df-convert\" onclick=\"convertToInteractive('df-658d308c-3f7b-4c97-8aef-f3932b92a594')\"\n",
              "              title=\"Convert this dataframe to an interactive table.\"\n",
              "              style=\"display:none;\">\n",
              "        \n",
              "  <svg xmlns=\"http://www.w3.org/2000/svg\" height=\"24px\"viewBox=\"0 0 24 24\"\n",
              "       width=\"24px\">\n",
              "    <path d=\"M0 0h24v24H0V0z\" fill=\"none\"/>\n",
              "    <path d=\"M18.56 5.44l.94 2.06.94-2.06 2.06-.94-2.06-.94-.94-2.06-.94 2.06-2.06.94zm-11 1L8.5 8.5l.94-2.06 2.06-.94-2.06-.94L8.5 2.5l-.94 2.06-2.06.94zm10 10l.94 2.06.94-2.06 2.06-.94-2.06-.94-.94-2.06-.94 2.06-2.06.94z\"/><path d=\"M17.41 7.96l-1.37-1.37c-.4-.4-.92-.59-1.43-.59-.52 0-1.04.2-1.43.59L10.3 9.45l-7.72 7.72c-.78.78-.78 2.05 0 2.83L4 21.41c.39.39.9.59 1.41.59.51 0 1.02-.2 1.41-.59l7.78-7.78 2.81-2.81c.8-.78.8-2.07 0-2.86zM5.41 20L4 18.59l7.72-7.72 1.47 1.35L5.41 20z\"/>\n",
              "  </svg>\n",
              "      </button>\n",
              "      \n",
              "  <style>\n",
              "    .colab-df-container {\n",
              "      display:flex;\n",
              "      flex-wrap:wrap;\n",
              "      gap: 12px;\n",
              "    }\n",
              "\n",
              "    .colab-df-convert {\n",
              "      background-color: #E8F0FE;\n",
              "      border: none;\n",
              "      border-radius: 50%;\n",
              "      cursor: pointer;\n",
              "      display: none;\n",
              "      fill: #1967D2;\n",
              "      height: 32px;\n",
              "      padding: 0 0 0 0;\n",
              "      width: 32px;\n",
              "    }\n",
              "\n",
              "    .colab-df-convert:hover {\n",
              "      background-color: #E2EBFA;\n",
              "      box-shadow: 0px 1px 2px rgba(60, 64, 67, 0.3), 0px 1px 3px 1px rgba(60, 64, 67, 0.15);\n",
              "      fill: #174EA6;\n",
              "    }\n",
              "\n",
              "    [theme=dark] .colab-df-convert {\n",
              "      background-color: #3B4455;\n",
              "      fill: #D2E3FC;\n",
              "    }\n",
              "\n",
              "    [theme=dark] .colab-df-convert:hover {\n",
              "      background-color: #434B5C;\n",
              "      box-shadow: 0px 1px 3px 1px rgba(0, 0, 0, 0.15);\n",
              "      filter: drop-shadow(0px 1px 2px rgba(0, 0, 0, 0.3));\n",
              "      fill: #FFFFFF;\n",
              "    }\n",
              "  </style>\n",
              "\n",
              "      <script>\n",
              "        const buttonEl =\n",
              "          document.querySelector('#df-658d308c-3f7b-4c97-8aef-f3932b92a594 button.colab-df-convert');\n",
              "        buttonEl.style.display =\n",
              "          google.colab.kernel.accessAllowed ? 'block' : 'none';\n",
              "\n",
              "        async function convertToInteractive(key) {\n",
              "          const element = document.querySelector('#df-658d308c-3f7b-4c97-8aef-f3932b92a594');\n",
              "          const dataTable =\n",
              "            await google.colab.kernel.invokeFunction('convertToInteractive',\n",
              "                                                     [key], {});\n",
              "          if (!dataTable) return;\n",
              "\n",
              "          const docLinkHtml = 'Like what you see? Visit the ' +\n",
              "            '<a target=\"_blank\" href=https://colab.research.google.com/notebooks/data_table.ipynb>data table notebook</a>'\n",
              "            + ' to learn more about interactive tables.';\n",
              "          element.innerHTML = '';\n",
              "          dataTable['output_type'] = 'display_data';\n",
              "          await google.colab.output.renderOutput(dataTable, element);\n",
              "          const docLink = document.createElement('div');\n",
              "          docLink.innerHTML = docLinkHtml;\n",
              "          element.appendChild(docLink);\n",
              "        }\n",
              "      </script>\n",
              "    </div>\n",
              "  </div>\n",
              "  "
            ],
            "text/plain": [
              "           ID Policy Start Date Policy End Date  ... State  ProductName target\n",
              "0  ID_0040R73        2010-05-14      2011-05-13  ...   NaN  Car Classic      0\n",
              "1  ID_0046BNK        2010-11-29      2011-11-28  ...   NaN  Car Classic      1\n",
              "2  ID_005QMC3        2010-03-21      2011-03-20  ...   NaN  Car Classic      0\n",
              "\n",
              "[3 rows x 14 columns]"
            ]
          },
          "metadata": {},
          "execution_count": 3
        }
      ]
    },
    {
      "cell_type": "code",
      "metadata": {
        "colab": {
          "base_uri": "https://localhost:8080/",
          "height": 294
        },
        "id": "LIFG9srHSRes",
        "outputId": "4ef49c80-d539-4573-d49e-036fc81fe576"
      },
      "source": [
        "test = pd.read_csv('Test.csv')\n",
        "test.head(3)"
      ],
      "execution_count": 4,
      "outputs": [
        {
          "output_type": "execute_result",
          "data": {
            "text/html": [
              "\n",
              "  <div id=\"df-692e034d-7eba-4417-acc9-7e1409a6e749\">\n",
              "    <div class=\"colab-df-container\">\n",
              "      <div>\n",
              "<style scoped>\n",
              "    .dataframe tbody tr th:only-of-type {\n",
              "        vertical-align: middle;\n",
              "    }\n",
              "\n",
              "    .dataframe tbody tr th {\n",
              "        vertical-align: top;\n",
              "    }\n",
              "\n",
              "    .dataframe thead th {\n",
              "        text-align: right;\n",
              "    }\n",
              "</style>\n",
              "<table border=\"1\" class=\"dataframe\">\n",
              "  <thead>\n",
              "    <tr style=\"text-align: right;\">\n",
              "      <th></th>\n",
              "      <th>ID</th>\n",
              "      <th>Policy Start Date</th>\n",
              "      <th>Policy End Date</th>\n",
              "      <th>Gender</th>\n",
              "      <th>Age</th>\n",
              "      <th>First Transaction Date</th>\n",
              "      <th>No_Pol</th>\n",
              "      <th>Car_Category</th>\n",
              "      <th>Subject_Car_Colour</th>\n",
              "      <th>Subject_Car_Make</th>\n",
              "      <th>LGA_Name</th>\n",
              "      <th>State</th>\n",
              "      <th>ProductName</th>\n",
              "    </tr>\n",
              "  </thead>\n",
              "  <tbody>\n",
              "    <tr>\n",
              "      <th>0</th>\n",
              "      <td>ID_01QM0NU</td>\n",
              "      <td>2010-10-23</td>\n",
              "      <td>2011-10-22</td>\n",
              "      <td>Female</td>\n",
              "      <td>46</td>\n",
              "      <td>2010-10-23</td>\n",
              "      <td>1</td>\n",
              "      <td>NaN</td>\n",
              "      <td>NaN</td>\n",
              "      <td>Ford</td>\n",
              "      <td>Abuja Municipal</td>\n",
              "      <td>Abuja-Municipal</td>\n",
              "      <td>Car Classic</td>\n",
              "    </tr>\n",
              "    <tr>\n",
              "      <th>1</th>\n",
              "      <td>ID_024NJLZ</td>\n",
              "      <td>2010-10-14</td>\n",
              "      <td>2011-10-13</td>\n",
              "      <td>Male</td>\n",
              "      <td>32</td>\n",
              "      <td>2010-10-14</td>\n",
              "      <td>1</td>\n",
              "      <td>NaN</td>\n",
              "      <td>NaN</td>\n",
              "      <td>NaN</td>\n",
              "      <td>Kosofe</td>\n",
              "      <td>Benue</td>\n",
              "      <td>Car Classic</td>\n",
              "    </tr>\n",
              "    <tr>\n",
              "      <th>2</th>\n",
              "      <td>ID_02NOVWQ</td>\n",
              "      <td>2010-08-29</td>\n",
              "      <td>2011-08-28</td>\n",
              "      <td>Female</td>\n",
              "      <td>45</td>\n",
              "      <td>2010-08-29</td>\n",
              "      <td>2</td>\n",
              "      <td>Saloon</td>\n",
              "      <td>Black</td>\n",
              "      <td>Honda</td>\n",
              "      <td>Wuse 11</td>\n",
              "      <td>Abuja</td>\n",
              "      <td>Car Classic</td>\n",
              "    </tr>\n",
              "  </tbody>\n",
              "</table>\n",
              "</div>\n",
              "      <button class=\"colab-df-convert\" onclick=\"convertToInteractive('df-692e034d-7eba-4417-acc9-7e1409a6e749')\"\n",
              "              title=\"Convert this dataframe to an interactive table.\"\n",
              "              style=\"display:none;\">\n",
              "        \n",
              "  <svg xmlns=\"http://www.w3.org/2000/svg\" height=\"24px\"viewBox=\"0 0 24 24\"\n",
              "       width=\"24px\">\n",
              "    <path d=\"M0 0h24v24H0V0z\" fill=\"none\"/>\n",
              "    <path d=\"M18.56 5.44l.94 2.06.94-2.06 2.06-.94-2.06-.94-.94-2.06-.94 2.06-2.06.94zm-11 1L8.5 8.5l.94-2.06 2.06-.94-2.06-.94L8.5 2.5l-.94 2.06-2.06.94zm10 10l.94 2.06.94-2.06 2.06-.94-2.06-.94-.94-2.06-.94 2.06-2.06.94z\"/><path d=\"M17.41 7.96l-1.37-1.37c-.4-.4-.92-.59-1.43-.59-.52 0-1.04.2-1.43.59L10.3 9.45l-7.72 7.72c-.78.78-.78 2.05 0 2.83L4 21.41c.39.39.9.59 1.41.59.51 0 1.02-.2 1.41-.59l7.78-7.78 2.81-2.81c.8-.78.8-2.07 0-2.86zM5.41 20L4 18.59l7.72-7.72 1.47 1.35L5.41 20z\"/>\n",
              "  </svg>\n",
              "      </button>\n",
              "      \n",
              "  <style>\n",
              "    .colab-df-container {\n",
              "      display:flex;\n",
              "      flex-wrap:wrap;\n",
              "      gap: 12px;\n",
              "    }\n",
              "\n",
              "    .colab-df-convert {\n",
              "      background-color: #E8F0FE;\n",
              "      border: none;\n",
              "      border-radius: 50%;\n",
              "      cursor: pointer;\n",
              "      display: none;\n",
              "      fill: #1967D2;\n",
              "      height: 32px;\n",
              "      padding: 0 0 0 0;\n",
              "      width: 32px;\n",
              "    }\n",
              "\n",
              "    .colab-df-convert:hover {\n",
              "      background-color: #E2EBFA;\n",
              "      box-shadow: 0px 1px 2px rgba(60, 64, 67, 0.3), 0px 1px 3px 1px rgba(60, 64, 67, 0.15);\n",
              "      fill: #174EA6;\n",
              "    }\n",
              "\n",
              "    [theme=dark] .colab-df-convert {\n",
              "      background-color: #3B4455;\n",
              "      fill: #D2E3FC;\n",
              "    }\n",
              "\n",
              "    [theme=dark] .colab-df-convert:hover {\n",
              "      background-color: #434B5C;\n",
              "      box-shadow: 0px 1px 3px 1px rgba(0, 0, 0, 0.15);\n",
              "      filter: drop-shadow(0px 1px 2px rgba(0, 0, 0, 0.3));\n",
              "      fill: #FFFFFF;\n",
              "    }\n",
              "  </style>\n",
              "\n",
              "      <script>\n",
              "        const buttonEl =\n",
              "          document.querySelector('#df-692e034d-7eba-4417-acc9-7e1409a6e749 button.colab-df-convert');\n",
              "        buttonEl.style.display =\n",
              "          google.colab.kernel.accessAllowed ? 'block' : 'none';\n",
              "\n",
              "        async function convertToInteractive(key) {\n",
              "          const element = document.querySelector('#df-692e034d-7eba-4417-acc9-7e1409a6e749');\n",
              "          const dataTable =\n",
              "            await google.colab.kernel.invokeFunction('convertToInteractive',\n",
              "                                                     [key], {});\n",
              "          if (!dataTable) return;\n",
              "\n",
              "          const docLinkHtml = 'Like what you see? Visit the ' +\n",
              "            '<a target=\"_blank\" href=https://colab.research.google.com/notebooks/data_table.ipynb>data table notebook</a>'\n",
              "            + ' to learn more about interactive tables.';\n",
              "          element.innerHTML = '';\n",
              "          dataTable['output_type'] = 'display_data';\n",
              "          await google.colab.output.renderOutput(dataTable, element);\n",
              "          const docLink = document.createElement('div');\n",
              "          docLink.innerHTML = docLinkHtml;\n",
              "          element.appendChild(docLink);\n",
              "        }\n",
              "      </script>\n",
              "    </div>\n",
              "  </div>\n",
              "  "
            ],
            "text/plain": [
              "           ID Policy Start Date  ...            State  ProductName\n",
              "0  ID_01QM0NU        2010-10-23  ...  Abuja-Municipal  Car Classic\n",
              "1  ID_024NJLZ        2010-10-14  ...            Benue  Car Classic\n",
              "2  ID_02NOVWQ        2010-08-29  ...            Abuja  Car Classic\n",
              "\n",
              "[3 rows x 13 columns]"
            ]
          },
          "metadata": {},
          "execution_count": 4
        }
      ]
    },
    {
      "cell_type": "code",
      "metadata": {
        "colab": {
          "base_uri": "https://localhost:8080/",
          "height": 206
        },
        "id": "iESXNAIKSRhI",
        "outputId": "169e6371-04d4-4144-ecd2-6839d9741626"
      },
      "source": [
        "ss = pd.read_csv('SampleSubmission.csv')\n",
        "ss.head()"
      ],
      "execution_count": 5,
      "outputs": [
        {
          "output_type": "execute_result",
          "data": {
            "text/html": [
              "\n",
              "  <div id=\"df-b5ef2033-b6a1-4f08-8b1f-81319116a948\">\n",
              "    <div class=\"colab-df-container\">\n",
              "      <div>\n",
              "<style scoped>\n",
              "    .dataframe tbody tr th:only-of-type {\n",
              "        vertical-align: middle;\n",
              "    }\n",
              "\n",
              "    .dataframe tbody tr th {\n",
              "        vertical-align: top;\n",
              "    }\n",
              "\n",
              "    .dataframe thead th {\n",
              "        text-align: right;\n",
              "    }\n",
              "</style>\n",
              "<table border=\"1\" class=\"dataframe\">\n",
              "  <thead>\n",
              "    <tr style=\"text-align: right;\">\n",
              "      <th></th>\n",
              "      <th>ID</th>\n",
              "      <th>target</th>\n",
              "    </tr>\n",
              "  </thead>\n",
              "  <tbody>\n",
              "    <tr>\n",
              "      <th>0</th>\n",
              "      <td>ID_01QM0NU</td>\n",
              "      <td>0</td>\n",
              "    </tr>\n",
              "    <tr>\n",
              "      <th>1</th>\n",
              "      <td>ID_024NJLZ</td>\n",
              "      <td>0</td>\n",
              "    </tr>\n",
              "    <tr>\n",
              "      <th>2</th>\n",
              "      <td>ID_02NOVWQ</td>\n",
              "      <td>0</td>\n",
              "    </tr>\n",
              "    <tr>\n",
              "      <th>3</th>\n",
              "      <td>ID_02VSP68</td>\n",
              "      <td>0</td>\n",
              "    </tr>\n",
              "    <tr>\n",
              "      <th>4</th>\n",
              "      <td>ID_02YB37K</td>\n",
              "      <td>0</td>\n",
              "    </tr>\n",
              "  </tbody>\n",
              "</table>\n",
              "</div>\n",
              "      <button class=\"colab-df-convert\" onclick=\"convertToInteractive('df-b5ef2033-b6a1-4f08-8b1f-81319116a948')\"\n",
              "              title=\"Convert this dataframe to an interactive table.\"\n",
              "              style=\"display:none;\">\n",
              "        \n",
              "  <svg xmlns=\"http://www.w3.org/2000/svg\" height=\"24px\"viewBox=\"0 0 24 24\"\n",
              "       width=\"24px\">\n",
              "    <path d=\"M0 0h24v24H0V0z\" fill=\"none\"/>\n",
              "    <path d=\"M18.56 5.44l.94 2.06.94-2.06 2.06-.94-2.06-.94-.94-2.06-.94 2.06-2.06.94zm-11 1L8.5 8.5l.94-2.06 2.06-.94-2.06-.94L8.5 2.5l-.94 2.06-2.06.94zm10 10l.94 2.06.94-2.06 2.06-.94-2.06-.94-.94-2.06-.94 2.06-2.06.94z\"/><path d=\"M17.41 7.96l-1.37-1.37c-.4-.4-.92-.59-1.43-.59-.52 0-1.04.2-1.43.59L10.3 9.45l-7.72 7.72c-.78.78-.78 2.05 0 2.83L4 21.41c.39.39.9.59 1.41.59.51 0 1.02-.2 1.41-.59l7.78-7.78 2.81-2.81c.8-.78.8-2.07 0-2.86zM5.41 20L4 18.59l7.72-7.72 1.47 1.35L5.41 20z\"/>\n",
              "  </svg>\n",
              "      </button>\n",
              "      \n",
              "  <style>\n",
              "    .colab-df-container {\n",
              "      display:flex;\n",
              "      flex-wrap:wrap;\n",
              "      gap: 12px;\n",
              "    }\n",
              "\n",
              "    .colab-df-convert {\n",
              "      background-color: #E8F0FE;\n",
              "      border: none;\n",
              "      border-radius: 50%;\n",
              "      cursor: pointer;\n",
              "      display: none;\n",
              "      fill: #1967D2;\n",
              "      height: 32px;\n",
              "      padding: 0 0 0 0;\n",
              "      width: 32px;\n",
              "    }\n",
              "\n",
              "    .colab-df-convert:hover {\n",
              "      background-color: #E2EBFA;\n",
              "      box-shadow: 0px 1px 2px rgba(60, 64, 67, 0.3), 0px 1px 3px 1px rgba(60, 64, 67, 0.15);\n",
              "      fill: #174EA6;\n",
              "    }\n",
              "\n",
              "    [theme=dark] .colab-df-convert {\n",
              "      background-color: #3B4455;\n",
              "      fill: #D2E3FC;\n",
              "    }\n",
              "\n",
              "    [theme=dark] .colab-df-convert:hover {\n",
              "      background-color: #434B5C;\n",
              "      box-shadow: 0px 1px 3px 1px rgba(0, 0, 0, 0.15);\n",
              "      filter: drop-shadow(0px 1px 2px rgba(0, 0, 0, 0.3));\n",
              "      fill: #FFFFFF;\n",
              "    }\n",
              "  </style>\n",
              "\n",
              "      <script>\n",
              "        const buttonEl =\n",
              "          document.querySelector('#df-b5ef2033-b6a1-4f08-8b1f-81319116a948 button.colab-df-convert');\n",
              "        buttonEl.style.display =\n",
              "          google.colab.kernel.accessAllowed ? 'block' : 'none';\n",
              "\n",
              "        async function convertToInteractive(key) {\n",
              "          const element = document.querySelector('#df-b5ef2033-b6a1-4f08-8b1f-81319116a948');\n",
              "          const dataTable =\n",
              "            await google.colab.kernel.invokeFunction('convertToInteractive',\n",
              "                                                     [key], {});\n",
              "          if (!dataTable) return;\n",
              "\n",
              "          const docLinkHtml = 'Like what you see? Visit the ' +\n",
              "            '<a target=\"_blank\" href=https://colab.research.google.com/notebooks/data_table.ipynb>data table notebook</a>'\n",
              "            + ' to learn more about interactive tables.';\n",
              "          element.innerHTML = '';\n",
              "          dataTable['output_type'] = 'display_data';\n",
              "          await google.colab.output.renderOutput(dataTable, element);\n",
              "          const docLink = document.createElement('div');\n",
              "          docLink.innerHTML = docLinkHtml;\n",
              "          element.appendChild(docLink);\n",
              "        }\n",
              "      </script>\n",
              "    </div>\n",
              "  </div>\n",
              "  "
            ],
            "text/plain": [
              "           ID  target\n",
              "0  ID_01QM0NU       0\n",
              "1  ID_024NJLZ       0\n",
              "2  ID_02NOVWQ       0\n",
              "3  ID_02VSP68       0\n",
              "4  ID_02YB37K       0"
            ]
          },
          "metadata": {},
          "execution_count": 5
        }
      ]
    },
    {
      "cell_type": "markdown",
      "metadata": {
        "id": "DiCsljX1T6Rz"
      },
      "source": [
        "# Defining the problem statement:\n",
        "Create a Predictive model which can tell if a client will submit a vehicle insurance claim in the next 3 months\n",
        "\n",
        "\n",
        "*   Target Variable: Target\n",
        "*   Predictors: Car_Category, Age, etc.\n",
        "\n",
        "\n",
        "\\\n",
        "*   Yes = 1 \n",
        "*   No = 0 \n",
        "\n",
        "Based on the problem statement, we need to create a supervised ML classification model as the target variable is categorical."
      ]
    },
    {
      "cell_type": "markdown",
      "metadata": {
        "id": "e4wRPCdZVhcZ"
      },
      "source": [
        "#Looking at the distribution of Target variable"
      ]
    },
    {
      "cell_type": "code",
      "metadata": {
        "colab": {
          "base_uri": "https://localhost:8080/",
          "height": 416
        },
        "id": "-SKIksGuSRjg",
        "outputId": "95346590-c439-4b40-a157-4afba9b2e4c2"
      },
      "source": [
        "print(train['target'].value_counts())\n",
        "plt.figure(figsize=(10,5))\n",
        "train['target'].value_counts(normalize=True).plot(kind='bar')\n",
        "plt.ylabel('counts')\n",
        "plt.xlabel('target')\n",
        "plt.title('Target Distribution', fontdict={'size':14})"
      ],
      "execution_count": 8,
      "outputs": [
        {
          "output_type": "stream",
          "name": "stdout",
          "text": [
            "0    10624\n",
            "1     1455\n",
            "Name: target, dtype: int64\n"
          ]
        },
        {
          "output_type": "execute_result",
          "data": {
            "text/plain": [
              "Text(0.5, 1.0, 'Target Distribution')"
            ]
          },
          "metadata": {},
          "execution_count": 8
        },
        {
          "output_type": "display_data",
          "data": {
            "image/png": "[encoded data removed]",
            "text/plain": [
              "<Figure size 720x360 with 1 Axes>"
            ]
          },
          "metadata": {
            "needs_background": "light"
          }
        }
      ]
    },
    {
      "cell_type": "markdown",
      "source": [
        "~87% of the clients in the dataset did not submit a vehicle insurance claim whereas ~12% did. \n",
        "\n",
        "=> imbalanced dataset"
      ],
      "metadata": {
        "id": "znMyPuer69ML"
      }
    },
    {
      "cell_type": "markdown",
      "metadata": {
        "id": "15zj6_G5YJhx"
      },
      "source": [
        "# Combine train and test set for easy preprocessing "
      ]
    },
    {
      "cell_type": "code",
      "metadata": {
        "colab": {
          "base_uri": "https://localhost:8080/"
        },
        "id": "jiT18BAIYQYR",
        "outputId": "8b4aaeb5-3dff-47b7-a7e9-8c7d68696e1a"
      },
      "source": [
        "# Combine train and test set\n",
        "ntrain = train.shape[0] # to be used to split train and test set from the combined dataframe\n",
        "\n",
        "all_data = pd.concat((train, test)).reset_index(drop=True)\n",
        "print(f'The shape of the combined dataframe is: {all_data.shape}')"
      ],
      "execution_count": 14,
      "outputs": [
        {
          "output_type": "stream",
          "name": "stdout",
          "text": [
            "The shape of the combined dataframe is: (13281, 14)\n"
          ]
        }
      ]
    },
    {
      "cell_type": "markdown",
      "metadata": {
        "id": "XKfNkV2QZKKR"
      },
      "source": [
        "#### Removing duplicate rows if any"
      ]
    },
    {
      "cell_type": "code",
      "metadata": {
        "colab": {
          "base_uri": "https://localhost:8080/"
        },
        "id": "lAN47kv5ZJdY",
        "outputId": "c16b4050-ed15-41b7-c71f-97015b0ac438"
      },
      "source": [
        "print('Shape of the training set before deleting duplicate values:', all_data.shape)\n",
        "\n",
        "all_data = all_data.drop_duplicates()\n",
        "print('Shape After deleting duplicate values:', all_data.shape)"
      ],
      "execution_count": 15,
      "outputs": [
        {
          "output_type": "stream",
          "name": "stdout",
          "text": [
            "Shape of the training set before deleting duplicate values: (13281, 14)\n",
            "Shape After deleting duplicate values: (13281, 14)\n"
          ]
        }
      ]
    },
    {
      "cell_type": "markdown",
      "metadata": {
        "id": "dqgtmBYMWWSK"
      },
      "source": [
        "# Data Exploration + Preprocessing"
      ]
    },
    {
      "cell_type": "code",
      "metadata": {
        "colab": {
          "base_uri": "https://localhost:8080/"
        },
        "id": "2nbw3aJhSRms",
        "outputId": "f3eacdd8-2e57-4759-b2c8-de42482a6582"
      },
      "source": [
        "all_data.info()"
      ],
      "execution_count": 16,
      "outputs": [
        {
          "output_type": "stream",
          "name": "stdout",
          "text": [
            "<class 'pandas.core.frame.DataFrame'>\n",
            "Int64Index: 13281 entries, 0 to 13280\n",
            "Data columns (total 14 columns):\n",
            " #   Column                  Non-Null Count  Dtype  \n",
            "---  ------                  --------------  -----  \n",
            " 0   ID                      13281 non-null  object \n",
            " 1   Policy Start Date       13281 non-null  object \n",
            " 2   Policy End Date         13281 non-null  object \n",
            " 3   Gender                  12881 non-null  object \n",
            " 4   Age                     13281 non-null  int64  \n",
            " 5   First Transaction Date  13281 non-null  object \n",
            " 6   No_Pol                  13281 non-null  int64  \n",
            " 7   Car_Category            9171 non-null   object \n",
            " 8   Subject_Car_Colour      5622 non-null   object \n",
            " 9   Subject_Car_Make        10557 non-null  object \n",
            " 10  LGA_Name                6149 non-null   object \n",
            " 11  State                   6137 non-null   object \n",
            " 12  ProductName             13281 non-null  object \n",
            " 13  target                  12079 non-null  float64\n",
            "dtypes: float64(1), int64(2), object(11)\n",
            "memory usage: 1.5+ MB\n"
          ]
        }
      ]
    },
    {
      "cell_type": "markdown",
      "metadata": {
        "id": "X7NIHUApYgC8"
      },
      "source": [
        "#### Change each column to its appriopriate datatype\n"
      ]
    },
    {
      "cell_type": "code",
      "metadata": {
        "colab": {
          "base_uri": "https://localhost:8080/"
        },
        "id": "qWHhkTigYg14",
        "outputId": "8c110f44-ac0f-4fce-c28f-585bddc03dcf"
      },
      "source": [
        "date_cols = [col for col in all_data.columns if 'Date' in col]\n",
        "num_cols = ['Age', 'No_Pol']\n",
        "cat_cols = [col for col in all_data.columns if col not in date_cols+num_cols+['ID', 'target']]\n",
        "\n",
        "for col in all_data.columns:\n",
        "  if col in date_cols:\n",
        "    all_data[col] = pd.to_datetime(all_data[col]) # 'datetime64'for the dates \n",
        "  elif col in cat_cols:\n",
        "    all_data[col] = all_data[col].astype('category') # change 'object' dtype to 'category'\n",
        "\n",
        "# Confirm whether the changes have been applied successfully\n",
        "all_data.info()"
      ],
      "execution_count": 18,
      "outputs": [
        {
          "output_type": "stream",
          "name": "stdout",
          "text": [
            "<class 'pandas.core.frame.DataFrame'>\n",
            "Int64Index: 13281 entries, 0 to 13280\n",
            "Data columns (total 14 columns):\n",
            " #   Column                  Non-Null Count  Dtype         \n",
            "---  ------                  --------------  -----         \n",
            " 0   ID                      13281 non-null  object        \n",
            " 1   Policy Start Date       13281 non-null  datetime64[ns]\n",
            " 2   Policy End Date         13281 non-null  datetime64[ns]\n",
            " 3   Gender                  12881 non-null  category      \n",
            " 4   Age                     13281 non-null  int64         \n",
            " 5   First Transaction Date  13281 non-null  datetime64[ns]\n",
            " 6   No_Pol                  13281 non-null  int64         \n",
            " 7   Car_Category            9171 non-null   category      \n",
            " 8   Subject_Car_Colour      5622 non-null   category      \n",
            " 9   Subject_Car_Make        10557 non-null  category      \n",
            " 10  LGA_Name                6149 non-null   category      \n",
            " 11  State                   6137 non-null   category      \n",
            " 12  ProductName             13281 non-null  category      \n",
            " 13  target                  12079 non-null  float64       \n",
            "dtypes: category(7), datetime64[ns](3), float64(1), int64(2), object(1)\n",
            "memory usage: 958.0+ KB\n"
          ]
        }
      ]
    },
    {
      "cell_type": "markdown",
      "metadata": {
        "id": "wOjNUeXVXYzT"
      },
      "source": [
        "####Categorical variables "
      ]
    },
    {
      "cell_type": "code",
      "source": [
        "all_data.Gender.unique()"
      ],
      "metadata": {
        "colab": {
          "base_uri": "https://localhost:8080/"
        },
        "id": "xKGqpWyl_ZBL",
        "outputId": "50bb534d-a351-446a-d24e-8e76fd0343c7"
      },
      "execution_count": 19,
      "outputs": [
        {
          "output_type": "execute_result",
          "data": {
            "text/plain": [
              "['Male', 'Female', 'Entity', 'Joint Gender', NaN, 'NO GENDER', 'NOT STATED', 'SEX']\n",
              "Categories (7, object): ['Male', 'Female', 'Entity', 'Joint Gender', 'NO GENDER', 'NOT STATED',\n",
              "                         'SEX']"
            ]
          },
          "metadata": {},
          "execution_count": 19
        }
      ]
    },
    {
      "cell_type": "code",
      "metadata": {
        "id": "4I-7LsgieZAZ"
      },
      "source": [
        "mapper = {'Entity':'Other', 'Joint Gender':'Other', 'NOT STATED':'Other', 'NO GENDER': 'Other', 'SEX':\"Other\"}\n",
        "all_data.Gender = all_data.Gender.replace(mapper)"
      ],
      "execution_count": 20,
      "outputs": []
    },
    {
      "cell_type": "code",
      "source": [
        "plt.figure(figsize=(10,5))\n",
        "sns.countplot(\"Gender\", hue=\"target\", data=all_data)"
      ],
      "metadata": {
        "colab": {
          "base_uri": "https://localhost:8080/",
          "height": 353
        },
        "id": "oIAo7sn4Cg5Q",
        "outputId": "0782fe9f-5105-4308-82f0-2de0f9a06dad"
      },
      "execution_count": 21,
      "outputs": [
        {
          "output_type": "execute_result",
          "data": {
            "text/plain": [
              "<matplotlib.axes._subplots.AxesSubplot at 0x7fe02649ca90>"
            ]
          },
          "metadata": {},
          "execution_count": 21
        },
        {
          "output_type": "display_data",
          "data": {
            "image/png": "[encoded data removed]",
            "text/plain": [
              "<Figure size 720x360 with 1 Axes>"
            ]
          },
          "metadata": {
            "needs_background": "light"
          }
        }
      ]
    },
    {
      "cell_type": "code",
      "source": [
        "mapper = {'Mini Bus':'Bus', 'Mini Van':'Van', 'Pick Up > 3 Tons':'Pick Up',\n",
        "          'Tipper Truck':'Truck', 'Sedan':'Other', 'CAMRY CAR HIRE':'Other',\n",
        "          'Station 4 Wheel':'Other', 'Shape Of Vehicle Chasis':'Other',\n",
        "          'Wagon':'Other'}\n",
        "all_data.Car_Category = all_data.Car_Category.replace(mapper)"
      ],
      "metadata": {
        "id": "2daW25mYDGmC"
      },
      "execution_count": 23,
      "outputs": []
    },
    {
      "cell_type": "code",
      "source": [
        "'''for i in all_data.Car_Category.unique():\n",
        "  print(i)'''"
      ],
      "metadata": {
        "colab": {
          "base_uri": "https://localhost:8080/",
          "height": 35
        },
        "id": "RsMVpU3y_mx8",
        "outputId": "4853623e-f6fb-4b70-9565-f13d34784323"
      },
      "execution_count": 24,
      "outputs": [
        {
          "output_type": "execute_result",
          "data": {
            "application/vnd.google.colaboratory.intrinsic+json": {
              "type": "string"
            },
            "text/plain": [
              "'for i in all_data.Car_Category.unique():\\n  print(i)'"
            ]
          },
          "metadata": {},
          "execution_count": 24
        }
      ]
    },
    {
      "cell_type": "code",
      "source": [
        "plt.figure(figsize=(30,10))\n",
        "sns.countplot(\"Car_Category\", hue='target',data=all_data)"
      ],
      "metadata": {
        "colab": {
          "base_uri": "https://localhost:8080/",
          "height": 380
        },
        "id": "T2D_cISL_m00",
        "outputId": "c82a8f50-c0a7-4e9d-efdb-4336099df35c"
      },
      "execution_count": 25,
      "outputs": [
        {
          "output_type": "execute_result",
          "data": {
            "text/plain": [
              "<matplotlib.axes._subplots.AxesSubplot at 0x7fe025ee06d0>"
            ]
          },
          "metadata": {},
          "execution_count": 25
        },
        {
          "output_type": "display_data",
          "data": {
            "image/png": "[encoded data removed]",
            "text/plain": [
              "<Figure size 2160x720 with 1 Axes>"
            ]
          },
          "metadata": {
            "needs_background": "light"
          }
        }
      ]
    },
    {
      "cell_type": "code",
      "source": [
        "all_data.Subject_Car_Make.value_counts()"
      ],
      "metadata": {
        "colab": {
          "base_uri": "https://localhost:8080/"
        },
        "id": "29Ibt_wg_m4f",
        "outputId": "f795965a-253f-41d9-f160-ad7fa1da08b7"
      },
      "execution_count": 26,
      "outputs": [
        {
          "output_type": "execute_result",
          "data": {
            "text/plain": [
              "TOYOTA        5466\n",
              "Honda         1146\n",
              "Lexus          654\n",
              "Mercedes       577\n",
              "Hyundai        512\n",
              "              ... \n",
              "REXTON           1\n",
              "Raston           1\n",
              "Rols Royce       1\n",
              "Tata             1\n",
              "Jincheng         1\n",
              "Name: Subject_Car_Make, Length: 75, dtype: int64"
            ]
          },
          "metadata": {},
          "execution_count": 26
        }
      ]
    },
    {
      "cell_type": "code",
      "source": [
        "all_data.State.unique()"
      ],
      "metadata": {
        "colab": {
          "base_uri": "https://localhost:8080/"
        },
        "id": "kH7BzoAp_m_W",
        "outputId": "50d20702-f4f6-43d8-bbfa-4c3247a25327"
      },
      "execution_count": 27,
      "outputs": [
        {
          "output_type": "execute_result",
          "data": {
            "text/plain": [
              "[NaN, 'Lagos', 'Benue', 'Eti-Osa', 'Delta', ..., 'ENUGU-SOUTH', 'Ijebu-North', 'Asari-Toru', 'Idemili-south', 'Ngor-Okpala']\n",
              "Length: 114\n",
              "Categories (113, object): ['Lagos', 'Benue', 'Eti-Osa', 'Delta', ..., 'Ijebu-North', 'Asari-Toru',\n",
              "                           'Idemili-south', 'Ngor-Okpala']"
            ]
          },
          "metadata": {},
          "execution_count": 27
        }
      ]
    },
    {
      "cell_type": "code",
      "source": [
        "all_data['State'] = all_data['State'].replace({'Abuja-Municipal':'Federal Capital Territory','Oshodi-Isolo':'Lagos','Ibeju-Lekki':'Lagos','Ibadan-West':'Ibadan','Eti-Osa':'Lagos'\n",
        "                                        ,'Obia-Akpor':'Awka-Ibom','Ibadan-East':'Oyo','Amuwo-Odofin':'Lagos','ENUGU-EAST':'Enugu','Esan-West':'Edo'\n",
        "                                         ,'Obafemi-Owode':'Ogun','Orile-Iganmu':'Lagos', 'Ifako-Ijaye':'Lagos', 'Ibadan-North':'Oyo',\n",
        "                                         'Jos-North':'Plateau'\n",
        "                                        , 'Ondo-West':'Ondo', 'Kaduna-North':'Kaduna','Aniocha-South':'Delta','Ile-Oluji':'Ondo','Nnewi-North':'Anambra'\n",
        "                                        ,'Aboh-Mbaise':'Imo', 'Akoko-West':'Ondo','Warri-Central':'Edo', 'Jos-South':'Plateus','Onitsha-North':'Anambra'\n",
        "                                        , 'Ajeromi-Ifelodun':'Osun', 'Kano-Municipal':'Kano','Ife-Central':'Osun','Ilorin-West':'Kwara'\n",
        "                                         ,'Lagelu-North':'Oyo', 'Owerri-Municipal':'Imo','Nsit-Ubium':'Awka-Ibom', 'Udi-Agwu':'Enugu',\n",
        "                                         'Owerri-West':'Imo'\n",
        "                                         ,'Ogbmosho-South':'Oyo', 'Umuahia-South':'Abia','Ajegunle-State':'Lagos','Ekiti-West':'Ekiti',\n",
        "                                         'Ogun-Waterside':'Ogun'\n",
        "                                        ,'Awka-North':'Anambra','ABULE-EGBA':'Lagos','Ife-North':'Osun', 'Anambra-East':'Anambra', 'Etsako-West':'Edo'\n",
        "                                         ,'Aba-North':'Abia','Ibarapa-Central':'Oyo', 'Idemili-North':'Anambra', 'Ogba-Ndoni':'Rivers', \n",
        "                                         'Calabar-Municipality':'Cross-River','AJAO-ESTATE':'Lagos','Ekiti-East':'Ekiti',\n",
        "                                         'Ovia-SouthWest':'Edo','Essien-Udim':'Akwa-Ibom',\n",
        "                                         'Ado-Ota':'Ogun', 'Oyo-East':'Oyo', 'Ilorin-East':'Kwara', 'Ilesha-West':'Osun', 'Central-Abuja':'Federal Capital Territory',\n",
        "                                         'Owerri-North':'Imo','Ilesha-East':'Osun', 'Awka-South':'Delta','Enugu-North':'Enugu','Ibadan':'Oyo',\n",
        "                                         'Esan-Central':'Edo', 'Isoko-south':'Delta', 'Ethiope-East':'Delta','Ijebu-Ode':'Ogun'\n",
        "                                         ,'QuaAn-Pan':'Plateus', 'Warri-North':'Delta', 'Ado-Ekiti':'Ekiti', 'Ijebu-East':'Ogun',\n",
        "                                         'Onitsha-South':'Anambra', 'Ughelli-North':'Delta', 'Warri-South':'Delta', 'Kaduna-South':'Kaduna',\n",
        "                                         'Port-Harcourt':'Rivers', 'N-A':np.NaN, 'Idemili-south': 'Anambra', 'Ngor-Okpala':'Imo',\n",
        "      \n",
        "                                         'Oyo-West':'Oyo', 'Aba-South':'Abia', 'Isoko-North':'Delta', 'Oshimili-North':'Delta',\n",
        "                                         'Ndokwa-East':'Delta', 'Nnewi-South':'Anambra', 'ENUGU-SOUTH':'Enugu', 'Ijebu-North':'Ogun',\n",
        "                                         'Asari-Toru':'Rivers', 'Akwa-Ibom':'Awka-Ibom'})"
      ],
      "metadata": {
        "id": "Z1p3dmg6LitF"
      },
      "execution_count": 28,
      "outputs": []
    },
    {
      "cell_type": "code",
      "source": [
        "all_data['State'].unique()"
      ],
      "metadata": {
        "colab": {
          "base_uri": "https://localhost:8080/"
        },
        "id": "oMDrZ_2kLiwu",
        "outputId": "7cac755c-f502-46a2-cb0e-26c71bd107c5"
      },
      "execution_count": 29,
      "outputs": [
        {
          "output_type": "execute_result",
          "data": {
            "text/plain": [
              "array([nan, 'Lagos', 'Benue', 'Delta', 'Ogun',\n",
              "       'Federal Capital Territory', 'Ibadan', 'Awka-Ibom', 'Oyo',\n",
              "       'Kaduna', 'Anambra', 'Rivers', 'Niger-State', 'Edo', 'Enugu',\n",
              "       'Abuja', 'Imo', 'Plateau', 'Ondo', 'Cross-River', 'Plateus',\n",
              "       'Osun', 'Kano', 'Kwara', 'Akwa-Ibom', 'Abia', 'Kebbi', 'Ekiti',\n",
              "       'Nasarawa', 'Gombe', 'Bayelsa', 'Kogi', 'Bauchi', 'Ebonyi'],\n",
              "      dtype=object)"
            ]
          },
          "metadata": {},
          "execution_count": 29
        }
      ]
    },
    {
      "cell_type": "code",
      "source": [
        "plt.figure(figsize=(35,10))\n",
        "sns.countplot(\"State\", hue='target',data=all_data)"
      ],
      "metadata": {
        "colab": {
          "base_uri": "https://localhost:8080/",
          "height": 332
        },
        "id": "V9Bj_eMFNBkP",
        "outputId": "c20a631e-d66f-4942-cba1-424bf3dd83d4"
      },
      "execution_count": 30,
      "outputs": [
        {
          "output_type": "execute_result",
          "data": {
            "text/plain": [
              "<matplotlib.axes._subplots.AxesSubplot at 0x7fe025e39c10>"
            ]
          },
          "metadata": {},
          "execution_count": 30
        },
        {
          "output_type": "display_data",
          "data": {
            "image/png": "[encoded data removed]",
            "text/plain": [
              "<Figure size 2520x720 with 1 Axes>"
            ]
          },
          "metadata": {
            "needs_background": "light"
          }
        }
      ]
    },
    {
      "cell_type": "code",
      "source": [
        "all_data['ProductName'].unique()"
      ],
      "metadata": {
        "colab": {
          "base_uri": "https://localhost:8080/"
        },
        "id": "2Yu7_iEMMec3",
        "outputId": "9233ecfe-cf98-48d4-d52d-4905e08f9358"
      },
      "execution_count": 31,
      "outputs": [
        {
          "output_type": "execute_result",
          "data": {
            "text/plain": [
              "['Car Classic', 'CarSafe', 'Muuve', 'CVTP', 'Car Plus', 'Motor Cycle', 'Customized Motor', 'CarFlex', 'Car Vintage']\n",
              "Categories (9, object): ['Car Classic', 'CarSafe', 'Muuve', 'CVTP', ..., 'Motor Cycle',\n",
              "                         'Customized Motor', 'CarFlex', 'Car Vintage']"
            ]
          },
          "metadata": {},
          "execution_count": 31
        }
      ]
    },
    {
      "cell_type": "code",
      "source": [
        "plt.figure(figsize=(30,10))\n",
        "sns.countplot(\"ProductName\", hue='target',data=all_data)"
      ],
      "metadata": {
        "colab": {
          "base_uri": "https://localhost:8080/",
          "height": 380
        },
        "id": "hAhE7dSXMg7Q",
        "outputId": "34bbdffc-020d-4d36-febe-cd2a05be42f2"
      },
      "execution_count": 32,
      "outputs": [
        {
          "output_type": "execute_result",
          "data": {
            "text/plain": [
              "<matplotlib.axes._subplots.AxesSubplot at 0x7fe025cb7e50>"
            ]
          },
          "metadata": {},
          "execution_count": 32
        },
        {
          "output_type": "display_data",
          "data": {
            "image/png": "[encoded data removed]",
            "text/plain": [
              "<Figure size 2160x720 with 1 Axes>"
            ]
          },
          "metadata": {
            "needs_background": "light"
          }
        }
      ]
    },
    {
      "cell_type": "markdown",
      "source": [
        "**Clients who are most likely to make a car insurance claim:**\n",
        "* **are male**\n",
        "* **own a saloon car (or jeep)**\n",
        "* **are from Lagos**\n",
        "* **have a 'Car Classic' insurance policy.**"
      ],
      "metadata": {
        "id": "4qN4AEHp-Xy1"
      }
    },
    {
      "cell_type": "code",
      "source": [
        "all_data['LGA_Name'].value_counts()"
      ],
      "metadata": {
        "colab": {
          "base_uri": "https://localhost:8080/"
        },
        "id": "jTwKmap0m0r-",
        "outputId": "2a1b61f1-bbb9-4075-d786-c4855e31693d"
      },
      "execution_count": 33,
      "outputs": [
        {
          "output_type": "execute_result",
          "data": {
            "text/plain": [
              "Victoria Island    1284\n",
              "Ikeja               438\n",
              "Surulere            306\n",
              "Abuja Municipal     257\n",
              "Lagos Mainland      245\n",
              "                   ... \n",
              "Isoko North           1\n",
              "Isoko south           1\n",
              "Iwo                   1\n",
              "Katcha                1\n",
              "Ilesha                1\n",
              "Name: LGA_Name, Length: 270, dtype: int64"
            ]
          },
          "metadata": {},
          "execution_count": 33
        }
      ]
    },
    {
      "cell_type": "code",
      "source": [
        "all_data['LGA_Name']=all_data.LGA_Name.replace({'LGA':np.NaN})\n",
        "all_data.LGA_Name.fillna(np.NaN,inplace =True) "
      ],
      "metadata": {
        "id": "nLnJl1a_mqsa"
      },
      "execution_count": 34,
      "outputs": []
    },
    {
      "cell_type": "code",
      "source": [
        "all_data['State'] = all_data['State'].astype('category')\n",
        "all_data['Gender'] = all_data['Gender'].astype('category')\n",
        "all_data['Car_Category'] = all_data['Car_Category'].astype('category')\n",
        "all_data['LGA_Name'] = all_data['LGA_Name'].astype('category')"
      ],
      "metadata": {
        "id": "f1-M6MsPcfo0"
      },
      "execution_count": 35,
      "outputs": []
    },
    {
      "cell_type": "markdown",
      "metadata": {
        "id": "VgRs2LSTezfk"
      },
      "source": [
        "####Numerical variables"
      ]
    },
    {
      "cell_type": "code",
      "source": [
        "plt.figure(figsize=(10,5))\n",
        "for i in enumerate([\"Age\", \"No_Pol\"]):\n",
        "  plt.subplot(1, 2, i[0]+1)\n",
        "  all_data[i[1]].hist()\n",
        "plt.show()"
      ],
      "metadata": {
        "colab": {
          "base_uri": "https://localhost:8080/",
          "height": 320
        },
        "id": "PSLRR3ptPAKh",
        "outputId": "95e58db5-e388-4691-df5f-3659f227467f"
      },
      "execution_count": 36,
      "outputs": [
        {
          "output_type": "display_data",
          "data": {
            "image/png": "[encoded data removed]",
            "text/plain": [
              "<Figure size 720x360 with 2 Axes>"
            ]
          },
          "metadata": {
            "needs_background": "light"
          }
        }
      ]
    },
    {
      "cell_type": "code",
      "metadata": {
        "colab": {
          "base_uri": "https://localhost:8080/",
          "height": 300
        },
        "id": "mgKTcdlRSRpG",
        "outputId": "fb9303ef-4aa3-4245-a3b2-c766065b70a3"
      },
      "source": [
        "# Descriptive statistics\n",
        "all_data.select_dtypes(include=['int64', 'float64']).describe()"
      ],
      "execution_count": null,
      "outputs": [
        {
          "output_type": "execute_result",
          "data": {
            "text/html": [
              "\n",
              "  <div id=\"df-588cbc49-3745-484b-8bd0-52789fe82ff3\">\n",
              "    <div class=\"colab-df-container\">\n",
              "      <div>\n",
              "<style scoped>\n",
              "    .dataframe tbody tr th:only-of-type {\n",
              "        vertical-align: middle;\n",
              "    }\n",
              "\n",
              "    .dataframe tbody tr th {\n",
              "        vertical-align: top;\n",
              "    }\n",
              "\n",
              "    .dataframe thead th {\n",
              "        text-align: right;\n",
              "    }\n",
              "</style>\n",
              "<table border=\"1\" class=\"dataframe\">\n",
              "  <thead>\n",
              "    <tr style=\"text-align: right;\">\n",
              "      <th></th>\n",
              "      <th>Age</th>\n",
              "      <th>No_Pol</th>\n",
              "      <th>target</th>\n",
              "    </tr>\n",
              "  </thead>\n",
              "  <tbody>\n",
              "    <tr>\n",
              "      <th>count</th>\n",
              "      <td>13281.000000</td>\n",
              "      <td>13281.000000</td>\n",
              "      <td>12079.000000</td>\n",
              "    </tr>\n",
              "    <tr>\n",
              "      <th>mean</th>\n",
              "      <td>42.375574</td>\n",
              "      <td>1.302763</td>\n",
              "      <td>0.120457</td>\n",
              "    </tr>\n",
              "    <tr>\n",
              "      <th>std</th>\n",
              "      <td>93.170951</td>\n",
              "      <td>0.723195</td>\n",
              "      <td>0.325509</td>\n",
              "    </tr>\n",
              "    <tr>\n",
              "      <th>min</th>\n",
              "      <td>-6099.000000</td>\n",
              "      <td>1.000000</td>\n",
              "      <td>0.000000</td>\n",
              "    </tr>\n",
              "    <tr>\n",
              "      <th>25%</th>\n",
              "      <td>35.000000</td>\n",
              "      <td>1.000000</td>\n",
              "      <td>0.000000</td>\n",
              "    </tr>\n",
              "    <tr>\n",
              "      <th>50%</th>\n",
              "      <td>41.000000</td>\n",
              "      <td>1.000000</td>\n",
              "      <td>0.000000</td>\n",
              "    </tr>\n",
              "    <tr>\n",
              "      <th>75%</th>\n",
              "      <td>50.000000</td>\n",
              "      <td>1.000000</td>\n",
              "      <td>0.000000</td>\n",
              "    </tr>\n",
              "    <tr>\n",
              "      <th>max</th>\n",
              "      <td>320.000000</td>\n",
              "      <td>10.000000</td>\n",
              "      <td>1.000000</td>\n",
              "    </tr>\n",
              "  </tbody>\n",
              "</table>\n",
              "</div>\n",
              "      <button class=\"colab-df-convert\" onclick=\"convertToInteractive('df-588cbc49-3745-484b-8bd0-52789fe82ff3')\"\n",
              "              title=\"Convert this dataframe to an interactive table.\"\n",
              "              style=\"display:none;\">\n",
              "        \n",
              "  <svg xmlns=\"http://www.w3.org/2000/svg\" height=\"24px\"viewBox=\"0 0 24 24\"\n",
              "       width=\"24px\">\n",
              "    <path d=\"M0 0h24v24H0V0z\" fill=\"none\"/>\n",
              "    <path d=\"M18.56 5.44l.94 2.06.94-2.06 2.06-.94-2.06-.94-.94-2.06-.94 2.06-2.06.94zm-11 1L8.5 8.5l.94-2.06 2.06-.94-2.06-.94L8.5 2.5l-.94 2.06-2.06.94zm10 10l.94 2.06.94-2.06 2.06-.94-2.06-.94-.94-2.06-.94 2.06-2.06.94z\"/><path d=\"M17.41 7.96l-1.37-1.37c-.4-.4-.92-.59-1.43-.59-.52 0-1.04.2-1.43.59L10.3 9.45l-7.72 7.72c-.78.78-.78 2.05 0 2.83L4 21.41c.39.39.9.59 1.41.59.51 0 1.02-.2 1.41-.59l7.78-7.78 2.81-2.81c.8-.78.8-2.07 0-2.86zM5.41 20L4 18.59l7.72-7.72 1.47 1.35L5.41 20z\"/>\n",
              "  </svg>\n",
              "      </button>\n",
              "      \n",
              "  <style>\n",
              "    .colab-df-container {\n",
              "      display:flex;\n",
              "      flex-wrap:wrap;\n",
              "      gap: 12px;\n",
              "    }\n",
              "\n",
              "    .colab-df-convert {\n",
              "      background-color: #E8F0FE;\n",
              "      border: none;\n",
              "      border-radius: 50%;\n",
              "      cursor: pointer;\n",
              "      display: none;\n",
              "      fill: #1967D2;\n",
              "      height: 32px;\n",
              "      padding: 0 0 0 0;\n",
              "      width: 32px;\n",
              "    }\n",
              "\n",
              "    .colab-df-convert:hover {\n",
              "      background-color: #E2EBFA;\n",
              "      box-shadow: 0px 1px 2px rgba(60, 64, 67, 0.3), 0px 1px 3px 1px rgba(60, 64, 67, 0.15);\n",
              "      fill: #174EA6;\n",
              "    }\n",
              "\n",
              "    [theme=dark] .colab-df-convert {\n",
              "      background-color: #3B4455;\n",
              "      fill: #D2E3FC;\n",
              "    }\n",
              "\n",
              "    [theme=dark] .colab-df-convert:hover {\n",
              "      background-color: #434B5C;\n",
              "      box-shadow: 0px 1px 3px 1px rgba(0, 0, 0, 0.15);\n",
              "      filter: drop-shadow(0px 1px 2px rgba(0, 0, 0, 0.3));\n",
              "      fill: #FFFFFF;\n",
              "    }\n",
              "  </style>\n",
              "\n",
              "      <script>\n",
              "        const buttonEl =\n",
              "          document.querySelector('#df-588cbc49-3745-484b-8bd0-52789fe82ff3 button.colab-df-convert');\n",
              "        buttonEl.style.display =\n",
              "          google.colab.kernel.accessAllowed ? 'block' : 'none';\n",
              "\n",
              "        async function convertToInteractive(key) {\n",
              "          const element = document.querySelector('#df-588cbc49-3745-484b-8bd0-52789fe82ff3');\n",
              "          const dataTable =\n",
              "            await google.colab.kernel.invokeFunction('convertToInteractive',\n",
              "                                                     [key], {});\n",
              "          if (!dataTable) return;\n",
              "\n",
              "          const docLinkHtml = 'Like what you see? Visit the ' +\n",
              "            '<a target=\"_blank\" href=https://colab.research.google.com/notebooks/data_table.ipynb>data table notebook</a>'\n",
              "            + ' to learn more about interactive tables.';\n",
              "          element.innerHTML = '';\n",
              "          dataTable['output_type'] = 'display_data';\n",
              "          await google.colab.output.renderOutput(dataTable, element);\n",
              "          const docLink = document.createElement('div');\n",
              "          docLink.innerHTML = docLinkHtml;\n",
              "          element.appendChild(docLink);\n",
              "        }\n",
              "      </script>\n",
              "    </div>\n",
              "  </div>\n",
              "  "
            ],
            "text/plain": [
              "                Age        No_Pol        target\n",
              "count  13281.000000  13281.000000  12079.000000\n",
              "mean      42.375574      1.302763      0.120457\n",
              "std       93.170951      0.723195      0.325509\n",
              "min    -6099.000000      1.000000      0.000000\n",
              "25%       35.000000      1.000000      0.000000\n",
              "50%       41.000000      1.000000      0.000000\n",
              "75%       50.000000      1.000000      0.000000\n",
              "max      320.000000     10.000000      1.000000"
            ]
          },
          "metadata": {},
          "execution_count": 11
        }
      ]
    },
    {
      "cell_type": "markdown",
      "source": [
        "**The 'Age' column contains extreme values as the maximum age is 320 and the minimum is -6099.**"
      ],
      "metadata": {
        "id": "HtXeQ4en9ABz"
      }
    },
    {
      "cell_type": "markdown",
      "metadata": {
        "id": "LdeCJFwigoO5"
      },
      "source": [
        "#### Replacing outliers with NaN"
      ]
    },
    {
      "cell_type": "code",
      "source": [
        "all_data['Age'] = np.where(all_data['Age'].between(-6099,1), np.NaN, all_data['Age'])\n",
        "all_data['Age'] = np.where(all_data['Age'].between(90,320), np.NaN, all_data['Age'])\n",
        "all_data['Age'] = np.where(all_data['Age'].between(2,18), all_data['Age'].median(), all_data['Age'])"
      ],
      "metadata": {
        "id": "LUG18aOvPANN"
      },
      "execution_count": 37,
      "outputs": []
    },
    {
      "cell_type": "code",
      "source": [
        "all_data['Age'].hist()"
      ],
      "metadata": {
        "colab": {
          "base_uri": "https://localhost:8080/",
          "height": 282
        },
        "id": "tTaGDM7yPAQI",
        "outputId": "3a1764f6-c1ce-4a83-8847-807127ece93f"
      },
      "execution_count": 38,
      "outputs": [
        {
          "output_type": "execute_result",
          "data": {
            "text/plain": [
              "<matplotlib.axes._subplots.AxesSubplot at 0x7fe025c69310>"
            ]
          },
          "metadata": {},
          "execution_count": 38
        },
        {
          "output_type": "display_data",
          "data": {
            "image/png": "[encoded data removed]",
            "text/plain": [
              "<Figure size 432x288 with 1 Axes>"
            ]
          },
          "metadata": {
            "needs_background": "light"
          }
        }
      ]
    },
    {
      "cell_type": "markdown",
      "source": [
        "#### Date columns"
      ],
      "metadata": {
        "id": "i_TWLVNhSo7D"
      }
    },
    {
      "cell_type": "code",
      "source": [
        "# Extract date features from the date columns\n",
        "date_columns = ['Policy Start Date','Policy End Date']\n",
        "for col in date_cols:\n",
        "  for date_feature in ['year', 'month', 'day']:\n",
        "    all_data[col+date_feature] = getattr(all_data[col].dt, date_feature)\n",
        "\n",
        "all_data['Policy End Dateyear'].value_counts()"
      ],
      "metadata": {
        "colab": {
          "base_uri": "https://localhost:8080/"
        },
        "id": "lTBWrLXfPAUf",
        "outputId": "cf14de84-df86-40c4-ebc1-a151173fb29f"
      },
      "execution_count": 39,
      "outputs": [
        {
          "output_type": "execute_result",
          "data": {
            "text/plain": [
              "2011    13096\n",
              "2010      177\n",
              "2012        2\n",
              "2041        2\n",
              "2016        2\n",
              "2037        1\n",
              "2034        1\n",
              "Name: Policy End Dateyear, dtype: int64"
            ]
          },
          "metadata": {},
          "execution_count": 39
        }
      ]
    },
    {
      "cell_type": "code",
      "source": [
        "all_data['Policy End Dateyear'] = np.where(all_data['Policy End Dateyear'].between(2015,2041), np.NaN, all_data['Policy End Dateyear'])"
      ],
      "metadata": {
        "id": "J1DhVILYj5rC"
      },
      "execution_count": 40,
      "outputs": []
    },
    {
      "cell_type": "code",
      "source": [
        ""
      ],
      "metadata": {
        "id": "1jnvOS1vkTuc"
      },
      "execution_count": null,
      "outputs": []
    },
    {
      "cell_type": "code",
      "source": [
        "all_data = all_data.drop(columns=['ID','Policy Start Date','Policy End Date', 'First Transaction Date', 'Subject_Car_Colour'])"
      ],
      "metadata": {
        "id": "FGGsIWOVPAXr"
      },
      "execution_count": 41,
      "outputs": []
    },
    {
      "cell_type": "code",
      "source": [
        "all_data.head(3)"
      ],
      "metadata": {
        "colab": {
          "base_uri": "https://localhost:8080/",
          "height": 242
        },
        "id": "jrb0Y5IYTcrL",
        "outputId": "d9c3085a-8919-4bcc-850a-4b2a796d389f"
      },
      "execution_count": 42,
      "outputs": [
        {
          "output_type": "execute_result",
          "data": {
            "text/html": [
              "\n",
              "  <div id=\"df-c7e9d573-f183-4ede-933f-d6a0aba496c3\">\n",
              "    <div class=\"colab-df-container\">\n",
              "      <div>\n",
              "<style scoped>\n",
              "    .dataframe tbody tr th:only-of-type {\n",
              "        vertical-align: middle;\n",
              "    }\n",
              "\n",
              "    .dataframe tbody tr th {\n",
              "        vertical-align: top;\n",
              "    }\n",
              "\n",
              "    .dataframe thead th {\n",
              "        text-align: right;\n",
              "    }\n",
              "</style>\n",
              "<table border=\"1\" class=\"dataframe\">\n",
              "  <thead>\n",
              "    <tr style=\"text-align: right;\">\n",
              "      <th></th>\n",
              "      <th>Gender</th>\n",
              "      <th>Age</th>\n",
              "      <th>No_Pol</th>\n",
              "      <th>Car_Category</th>\n",
              "      <th>Subject_Car_Make</th>\n",
              "      <th>LGA_Name</th>\n",
              "      <th>State</th>\n",
              "      <th>ProductName</th>\n",
              "      <th>target</th>\n",
              "      <th>Policy Start Dateyear</th>\n",
              "      <th>Policy Start Datemonth</th>\n",
              "      <th>Policy Start Dateday</th>\n",
              "      <th>Policy End Dateyear</th>\n",
              "      <th>Policy End Datemonth</th>\n",
              "      <th>Policy End Dateday</th>\n",
              "      <th>First Transaction Dateyear</th>\n",
              "      <th>First Transaction Datemonth</th>\n",
              "      <th>First Transaction Dateday</th>\n",
              "    </tr>\n",
              "  </thead>\n",
              "  <tbody>\n",
              "    <tr>\n",
              "      <th>0</th>\n",
              "      <td>Male</td>\n",
              "      <td>30.0</td>\n",
              "      <td>1</td>\n",
              "      <td>Saloon</td>\n",
              "      <td>TOYOTA</td>\n",
              "      <td>NaN</td>\n",
              "      <td>NaN</td>\n",
              "      <td>Car Classic</td>\n",
              "      <td>0.0</td>\n",
              "      <td>2010</td>\n",
              "      <td>5</td>\n",
              "      <td>14</td>\n",
              "      <td>2011.0</td>\n",
              "      <td>5</td>\n",
              "      <td>13</td>\n",
              "      <td>2010</td>\n",
              "      <td>5</td>\n",
              "      <td>14</td>\n",
              "    </tr>\n",
              "    <tr>\n",
              "      <th>1</th>\n",
              "      <td>Female</td>\n",
              "      <td>79.0</td>\n",
              "      <td>1</td>\n",
              "      <td>JEEP</td>\n",
              "      <td>TOYOTA</td>\n",
              "      <td>NaN</td>\n",
              "      <td>NaN</td>\n",
              "      <td>Car Classic</td>\n",
              "      <td>1.0</td>\n",
              "      <td>2010</td>\n",
              "      <td>11</td>\n",
              "      <td>29</td>\n",
              "      <td>2011.0</td>\n",
              "      <td>11</td>\n",
              "      <td>28</td>\n",
              "      <td>2010</td>\n",
              "      <td>11</td>\n",
              "      <td>29</td>\n",
              "    </tr>\n",
              "    <tr>\n",
              "      <th>2</th>\n",
              "      <td>Male</td>\n",
              "      <td>43.0</td>\n",
              "      <td>1</td>\n",
              "      <td>Saloon</td>\n",
              "      <td>TOYOTA</td>\n",
              "      <td>NaN</td>\n",
              "      <td>NaN</td>\n",
              "      <td>Car Classic</td>\n",
              "      <td>0.0</td>\n",
              "      <td>2010</td>\n",
              "      <td>3</td>\n",
              "      <td>21</td>\n",
              "      <td>2011.0</td>\n",
              "      <td>3</td>\n",
              "      <td>20</td>\n",
              "      <td>2010</td>\n",
              "      <td>3</td>\n",
              "      <td>21</td>\n",
              "    </tr>\n",
              "  </tbody>\n",
              "</table>\n",
              "</div>\n",
              "      <button class=\"colab-df-convert\" onclick=\"convertToInteractive('df-c7e9d573-f183-4ede-933f-d6a0aba496c3')\"\n",
              "              title=\"Convert this dataframe to an interactive table.\"\n",
              "              style=\"display:none;\">\n",
              "        \n",
              "  <svg xmlns=\"http://www.w3.org/2000/svg\" height=\"24px\"viewBox=\"0 0 24 24\"\n",
              "       width=\"24px\">\n",
              "    <path d=\"M0 0h24v24H0V0z\" fill=\"none\"/>\n",
              "    <path d=\"M18.56 5.44l.94 2.06.94-2.06 2.06-.94-2.06-.94-.94-2.06-.94 2.06-2.06.94zm-11 1L8.5 8.5l.94-2.06 2.06-.94-2.06-.94L8.5 2.5l-.94 2.06-2.06.94zm10 10l.94 2.06.94-2.06 2.06-.94-2.06-.94-.94-2.06-.94 2.06-2.06.94z\"/><path d=\"M17.41 7.96l-1.37-1.37c-.4-.4-.92-.59-1.43-.59-.52 0-1.04.2-1.43.59L10.3 9.45l-7.72 7.72c-.78.78-.78 2.05 0 2.83L4 21.41c.39.39.9.59 1.41.59.51 0 1.02-.2 1.41-.59l7.78-7.78 2.81-2.81c.8-.78.8-2.07 0-2.86zM5.41 20L4 18.59l7.72-7.72 1.47 1.35L5.41 20z\"/>\n",
              "  </svg>\n",
              "      </button>\n",
              "      \n",
              "  <style>\n",
              "    .colab-df-container {\n",
              "      display:flex;\n",
              "      flex-wrap:wrap;\n",
              "      gap: 12px;\n",
              "    }\n",
              "\n",
              "    .colab-df-convert {\n",
              "      background-color: #E8F0FE;\n",
              "      border: none;\n",
              "      border-radius: 50%;\n",
              "      cursor: pointer;\n",
              "      display: none;\n",
              "      fill: #1967D2;\n",
              "      height: 32px;\n",
              "      padding: 0 0 0 0;\n",
              "      width: 32px;\n",
              "    }\n",
              "\n",
              "    .colab-df-convert:hover {\n",
              "      background-color: #E2EBFA;\n",
              "      box-shadow: 0px 1px 2px rgba(60, 64, 67, 0.3), 0px 1px 3px 1px rgba(60, 64, 67, 0.15);\n",
              "      fill: #174EA6;\n",
              "    }\n",
              "\n",
              "    [theme=dark] .colab-df-convert {\n",
              "      background-color: #3B4455;\n",
              "      fill: #D2E3FC;\n",
              "    }\n",
              "\n",
              "    [theme=dark] .colab-df-convert:hover {\n",
              "      background-color: #434B5C;\n",
              "      box-shadow: 0px 1px 3px 1px rgba(0, 0, 0, 0.15);\n",
              "      filter: drop-shadow(0px 1px 2px rgba(0, 0, 0, 0.3));\n",
              "      fill: #FFFFFF;\n",
              "    }\n",
              "  </style>\n",
              "\n",
              "      <script>\n",
              "        const buttonEl =\n",
              "          document.querySelector('#df-c7e9d573-f183-4ede-933f-d6a0aba496c3 button.colab-df-convert');\n",
              "        buttonEl.style.display =\n",
              "          google.colab.kernel.accessAllowed ? 'block' : 'none';\n",
              "\n",
              "        async function convertToInteractive(key) {\n",
              "          const element = document.querySelector('#df-c7e9d573-f183-4ede-933f-d6a0aba496c3');\n",
              "          const dataTable =\n",
              "            await google.colab.kernel.invokeFunction('convertToInteractive',\n",
              "                                                     [key], {});\n",
              "          if (!dataTable) return;\n",
              "\n",
              "          const docLinkHtml = 'Like what you see? Visit the ' +\n",
              "            '<a target=\"_blank\" href=https://colab.research.google.com/notebooks/data_table.ipynb>data table notebook</a>'\n",
              "            + ' to learn more about interactive tables.';\n",
              "          element.innerHTML = '';\n",
              "          dataTable['output_type'] = 'display_data';\n",
              "          await google.colab.output.renderOutput(dataTable, element);\n",
              "          const docLink = document.createElement('div');\n",
              "          docLink.innerHTML = docLinkHtml;\n",
              "          element.appendChild(docLink);\n",
              "        }\n",
              "      </script>\n",
              "    </div>\n",
              "  </div>\n",
              "  "
            ],
            "text/plain": [
              "   Gender   Age  ...  First Transaction Datemonth First Transaction Dateday\n",
              "0    Male  30.0  ...                            5                        14\n",
              "1  Female  79.0  ...                           11                        29\n",
              "2    Male  43.0  ...                            3                        21\n",
              "\n",
              "[3 rows x 18 columns]"
            ]
          },
          "metadata": {},
          "execution_count": 42
        }
      ]
    },
    {
      "cell_type": "markdown",
      "metadata": {
        "id": "fIsXrH7BqtfT"
      },
      "source": [
        "# Missing values treatment¶\n"
      ]
    },
    {
      "cell_type": "code",
      "metadata": {
        "colab": {
          "base_uri": "https://localhost:8080/",
          "height": 446
        },
        "id": "g6IXI6npSWa0",
        "outputId": "c6feb50c-3b96-439a-c41d-4a78b3f94649"
      },
      "source": [
        "# Check if there any missing values in all_data \n",
        "ax = all_data.isna().sum().sort_values().plot(kind = 'barh', figsize = (10, 7))\n",
        "plt.title('Percentage of Missing Values Per Column in all_data', fontdict={'size':15})\n",
        "for p in ax.patches:\n",
        "    percentage ='{:,.0f}%'.format((p.get_width()/all_data.shape[0])*100)\n",
        "    width, height =p.get_width(),p.get_height()\n",
        "    x=p.get_x()+width+0.02\n",
        "    y=p.get_y()+height/2\n",
        "    ax.annotate(percentage,(x,y)) "
      ],
      "execution_count": 43,
      "outputs": [
        {
          "output_type": "display_data",
          "data": {
            "image/png": "[encoded data removed]",
            "text/plain": [
              "<Figure size 720x504 with 1 Axes>"
            ]
          },
          "metadata": {
            "needs_background": "light"
          }
        }
      ]
    },
    {
      "cell_type": "code",
      "metadata": {
        "id": "5BAeDcOGSWf1"
      },
      "source": [
        "#Replacing missing values with the mode\n",
        "all_data['State'].fillna((all_data['State'].mode()[0]), inplace=True)\n",
        "all_data['Car_Category'].fillna((all_data['Car_Category'].mode()[0]), inplace=True)\n",
        "all_data['Subject_Car_Make'].fillna((all_data['Subject_Car_Make'].mode()[0]), inplace=True)\n",
        "all_data['Gender'].fillna((all_data['Gender'].mode()[0]), inplace=True)\n",
        "all_data['LGA_Name'].fillna((all_data['LGA_Name'].mode()[0]), inplace=True)\n",
        "\n",
        "\n",
        "#Replacing \"Age\" missing values with the median\n",
        "all_data['Age'].fillna((all_data['Age'].median()), inplace=True)"
      ],
      "execution_count": 44,
      "outputs": []
    },
    {
      "cell_type": "code",
      "source": [
        ""
      ],
      "metadata": {
        "id": "9OPYnQ_s6gPP"
      },
      "execution_count": null,
      "outputs": []
    },
    {
      "cell_type": "code",
      "metadata": {
        "colab": {
          "base_uri": "https://localhost:8080/"
        },
        "id": "QQ_iTPEASWk7",
        "outputId": "dd74485c-de68-43b8-b095-fe3f81b69a86"
      },
      "source": [
        "# Confirm that there aren't any missing values\n",
        "all_data.isna().sum()"
      ],
      "execution_count": 45,
      "outputs": [
        {
          "output_type": "execute_result",
          "data": {
            "text/plain": [
              "Gender                            0\n",
              "Age                               0\n",
              "No_Pol                            0\n",
              "Car_Category                      0\n",
              "Subject_Car_Make                  0\n",
              "LGA_Name                          0\n",
              "State                             0\n",
              "ProductName                       0\n",
              "target                         1202\n",
              "Policy Start Dateyear             0\n",
              "Policy Start Datemonth            0\n",
              "Policy Start Dateday              0\n",
              "Policy End Dateyear               6\n",
              "Policy End Datemonth              0\n",
              "Policy End Dateday                0\n",
              "First Transaction Dateyear        0\n",
              "First Transaction Datemonth       0\n",
              "First Transaction Dateday         0\n",
              "dtype: int64"
            ]
          },
          "metadata": {},
          "execution_count": 45
        }
      ]
    },
    {
      "cell_type": "markdown",
      "source": [
        "#Machine Learning"
      ],
      "metadata": {
        "id": "42ImEow0Uvzg"
      }
    },
    {
      "cell_type": "markdown",
      "source": [
        "### **Separate train and test data from the combined dataframe**"
      ],
      "metadata": {
        "id": "hCnSqwcQU25b"
      }
    },
    {
      "cell_type": "code",
      "source": [
        "train = all_data[:ntrain]\n",
        "test = all_data[ntrain:]\n",
        "\n",
        "# Create target variable\n",
        "y = train['target']\n",
        "# Create feature variable\n",
        "X = train.drop(columns=['target'], axis=1)\n",
        "\n",
        "\n",
        "test = test.drop(columns=['target'], axis=1) \n",
        "\n",
        "print(\"X shape: \", X.shape)\n",
        "print(\"y shape: \", y.shape)\n",
        "print(\"test shape: \", test.shape)"
      ],
      "metadata": {
        "colab": {
          "base_uri": "https://localhost:8080/"
        },
        "id": "3AbIZrqpUxlS",
        "outputId": "4dbde465-3961-420d-ef38-ffffdf00dd3d"
      },
      "execution_count": 46,
      "outputs": [
        {
          "output_type": "stream",
          "name": "stdout",
          "text": [
            "X shape:  (12079, 17)\n",
            "y shape:  (12079,)\n",
            "test shape:  (1202, 17)\n"
          ]
        }
      ]
    },
    {
      "cell_type": "code",
      "source": [
        "# Evaluation function \n",
        "def evaluate(ytest, ypred, y_predproba): \n",
        "  print(\"Acuracy\", accuracy_score(ytest, ypred))\n",
        "  print(\"_\"*10)\n",
        "  print(\"Recall\", recall_score(ytest, ypred))\n",
        "  print(\"_\"*10)\n",
        "  print(\"F1 Score\", f1_score(ytest, ypred))\n",
        "  print(\"_\"*10)\n",
        "\n",
        "  confusion = confusion_matrix(ytest, ypred)\n",
        "  group_names = ['True Neg', 'False Pos', 'False Neg', 'True Pos']\n",
        "  group_counts = ['{0:0.0f}'.format(value) for value in\n",
        "                  confusion.flatten()]\n",
        "  group_percentages = ['{0:.2%}'.format(value) for value in\n",
        "                      confusion.flatten()/np.sum(confusion)]\n",
        "  labels = [f'{v1}\\n{v2}\\n{v3}' for v1, v2, v3 in\n",
        "            zip(group_names,group_counts,group_percentages)]\n",
        "  labels = np.asarray(labels).reshape(2,2)\n",
        "  matrix = sns.heatmap(confusion, annot=labels, fmt='', cmap='Blues')\n",
        "  matrix\n",
        "  figsize=(10, 6)\n",
        "\n",
        "  fpr, tpr, thresholds = roc_curve(ytest, y_predproba)\n",
        "  auc = roc_auc_score(ytest, y_predproba)\n",
        "  plt.figure(figsize=(8,5))\n",
        "\n",
        "  # Plot the ROC curve\n",
        "  plt.plot(fpr,tpr,label=\"AUC=\"+str(auc))\n",
        "\n",
        "  # Add labels and diagonal line\n",
        "  plt.xlabel(\"False Positive Rate\")\n",
        "  plt.ylabel(\"True Positive Rate\")\n",
        "\n",
        "  plt.legend(loc=4)\n",
        "  plt.plot([0, 1], [0, 1], \"k--\")\n",
        "  plt.show()\n",
        "  return"
      ],
      "metadata": {
        "id": "JkSQLOvlUxoC"
      },
      "execution_count": 48,
      "outputs": []
    },
    {
      "cell_type": "code",
      "source": [
        "lgbm = LGBMClassifier(learning_rate=0.22,n_estimators = 95,cat_smooth=10,\n",
        "                               reg_alpha=0.0 ,metrics='binary_error'\n",
        "                               ,scale_pos_weight= 3.6,max_depth=16,num_leaves=49,reg_lambda=0.3)\n",
        "\n",
        "catboost = CatBoostClassifier(n_estimators=10000, max_depth=6, eval_metric='F1', reg_lambda = 370, task_type=\"GPU\", devices='0:1')"
      ],
      "metadata": {
        "id": "fZt2fOrdUxq9"
      },
      "execution_count": 49,
      "outputs": []
    },
    {
      "cell_type": "code",
      "source": [
        "def training_model(model, modelName, train, test):\n",
        "\n",
        "  auc_scores = []\n",
        "  f1_scores = []\n",
        "  kf = StratifiedKFold(n_splits = 10)\n",
        "  y_preds = np.zeros(train.shape[0])\n",
        "  test_preds = np.zeros(test.shape[0])\n",
        "\n",
        "  def lightgbm_(x_train, x_test, y_train, y_test, test_preds):\n",
        "    model.fit(x_train, y_train, eval_metric=\"binary_error\",\n",
        "                           eval_set=[(x_test, y_test)], verbose = True)\n",
        "    y_pred_proba = model.predict_proba(x_test, num_iteration = model.best_iteration_)[:,1] \n",
        "    y_pred = model.predict(x_test, num_iteration = model.best_iteration_)\n",
        "    y_preds[test_index] = y_pred_proba \n",
        "    test_preds += model.predict_proba(test, num_iteration = model.best_iteration_)[:,1]\n",
        "    return y_pred_proba, y_pred\n",
        "\n",
        "  def catboost_(x_train, x_test, y_train, y_test, test_preds):\n",
        "    model.fit(x_train,y_train,eval_set=[(x_test,y_test)],early_stopping_rounds=500,\n",
        "                           verbose=50,use_best_model=True)\n",
        "    y_pred_proba = model.predict_proba(x_test)[:,1] \n",
        "    y_pred = model.predict(x_test)\n",
        "    y_preds[test_index] = y_pred_proba \n",
        "    test_preds += model.predict_proba(test)[:,1]\n",
        "    return y_pred_proba, y_pred\n",
        "\n",
        "  for count, (train_index, test_index) in enumerate(kf.split(X, y)):\n",
        "      x_train,x_test = X.iloc[train_index], X.iloc[test_index]\n",
        "      y_train,y_test = y.iloc[train_index], y.iloc[test_index]\n",
        "      print(f\"================================Fold {count+1}====================================\")\n",
        "\n",
        "      if modelName == 'lightgbm':\n",
        "        y_pred_proba, y_pred = lightgbm_(x_train, x_test, y_train, y_test, test_preds)\n",
        "      elif modelName == 'catboost':\n",
        "        y_pred_proba, y_pred = catboost_(x_train, x_test, y_train, y_test, test_preds)\n",
        "        \n",
        "      evaluate(y_test, y_pred, y_pred_proba)\n",
        "      print('\\nValidation auc:', roc_auc_score(y_test, y_pred_proba))\n",
        "\n",
        "      auc_scores.append(roc_auc_score(y_test, y_pred_proba))\n",
        "      f1_scores.append(f1_score(y_test, y_pred))\n",
        "  print('Mean AUC ', np.mean(auc_scores))\n",
        "  print('Mean f1 ', np.mean(f1_scores))\n",
        "  return y_preds, test_preds/10"
      ],
      "metadata": {
        "id": "dDhUUhg3Uxt3"
      },
      "execution_count": 61,
      "outputs": []
    },
    {
      "cell_type": "code",
      "source": [
        "y_preds_lgbm, test_preds_lgbm = training_model(lgbm, \"lightgbm\", train, test)"
      ],
      "metadata": {
        "colab": {
          "base_uri": "https://localhost:8080/",
          "height": 1000
        },
        "id": "xwLc6RBRUxw0",
        "outputId": "73a4ba61-2a27-4577-99ac-e12cdd61d888"
      },
      "execution_count": 62,
      "outputs": [
        {
          "output_type": "stream",
          "name": "stdout",
          "text": [
            "================================Fold 1====================================\n",
            "[1]\tvalid_0's binary_error: 0.120033\n",
            "[2]\tvalid_0's binary_error: 0.11755\n",
            "[3]\tvalid_0's binary_error: 0.119205\n",
            "[4]\tvalid_0's binary_error: 0.124172\n",
            "[5]\tvalid_0's binary_error: 0.126656\n",
            "[6]\tvalid_0's binary_error: 0.139073\n",
            "[7]\tvalid_0's binary_error: 0.164735\n",
            "[8]\tvalid_0's binary_error: 0.172185\n",
            "[9]\tvalid_0's binary_error: 0.182119\n",
            "[10]\tvalid_0's binary_error: 0.186258\n",
            "[11]\tvalid_0's binary_error: 0.187086\n",
            "[12]\tvalid_0's binary_error: 0.188742\n",
            "[13]\tvalid_0's binary_error: 0.191225\n",
            "[14]\tvalid_0's binary_error: 0.198675\n",
            "[15]\tvalid_0's binary_error: 0.19702\n",
            "[16]\tvalid_0's binary_error: 0.19702\n",
            "[17]\tvalid_0's binary_error: 0.18957\n",
            "[18]\tvalid_0's binary_error: 0.192053\n",
            "[19]\tvalid_0's binary_error: 0.193709\n",
            "[20]\tvalid_0's binary_error: 0.192053\n",
            "[21]\tvalid_0's binary_error: 0.190397\n",
            "[22]\tvalid_0's binary_error: 0.188742\n",
            "[23]\tvalid_0's binary_error: 0.18957\n",
            "[24]\tvalid_0's binary_error: 0.188742\n",
            "[25]\tvalid_0's binary_error: 0.194536\n",
            "[26]\tvalid_0's binary_error: 0.188742\n",
            "[27]\tvalid_0's binary_error: 0.187086\n",
            "[28]\tvalid_0's binary_error: 0.187914\n",
            "[29]\tvalid_0's binary_error: 0.194536\n",
            "[30]\tvalid_0's binary_error: 0.195364\n",
            "[31]\tvalid_0's binary_error: 0.193709\n",
            "[32]\tvalid_0's binary_error: 0.190397\n",
            "[33]\tvalid_0's binary_error: 0.193709\n",
            "[34]\tvalid_0's binary_error: 0.196192\n",
            "[35]\tvalid_0's binary_error: 0.191225\n",
            "[36]\tvalid_0's binary_error: 0.192881\n",
            "[37]\tvalid_0's binary_error: 0.18957\n",
            "[38]\tvalid_0's binary_error: 0.187914\n",
            "[39]\tvalid_0's binary_error: 0.18957\n",
            "[40]\tvalid_0's binary_error: 0.186258\n",
            "[41]\tvalid_0's binary_error: 0.18543\n",
            "[42]\tvalid_0's binary_error: 0.182119\n",
            "[43]\tvalid_0's binary_error: 0.181291\n",
            "[44]\tvalid_0's binary_error: 0.181291\n",
            "[45]\tvalid_0's binary_error: 0.180464\n",
            "[46]\tvalid_0's binary_error: 0.178808\n",
            "[47]\tvalid_0's binary_error: 0.182119\n",
            "[48]\tvalid_0's binary_error: 0.179636\n",
            "[49]\tvalid_0's binary_error: 0.179636\n",
            "[50]\tvalid_0's binary_error: 0.179636\n",
            "[51]\tvalid_0's binary_error: 0.178808\n",
            "[52]\tvalid_0's binary_error: 0.176325\n",
            "[53]\tvalid_0's binary_error: 0.176325\n",
            "[54]\tvalid_0's binary_error: 0.175497\n",
            "[55]\tvalid_0's binary_error: 0.174669\n",
            "[56]\tvalid_0's binary_error: 0.173841\n",
            "[57]\tvalid_0's binary_error: 0.175497\n",
            "[58]\tvalid_0's binary_error: 0.174669\n",
            "[59]\tvalid_0's binary_error: 0.175497\n",
            "[60]\tvalid_0's binary_error: 0.174669\n",
            "[61]\tvalid_0's binary_error: 0.173841\n",
            "[62]\tvalid_0's binary_error: 0.173841\n",
            "[63]\tvalid_0's binary_error: 0.176325\n",
            "[64]\tvalid_0's binary_error: 0.174669\n",
            "[65]\tvalid_0's binary_error: 0.173841\n",
            "[66]\tvalid_0's binary_error: 0.173841\n",
            "[67]\tvalid_0's binary_error: 0.173841\n",
            "[68]\tvalid_0's binary_error: 0.173013\n",
            "[69]\tvalid_0's binary_error: 0.173841\n",
            "[70]\tvalid_0's binary_error: 0.173013\n",
            "[71]\tvalid_0's binary_error: 0.17053\n",
            "[72]\tvalid_0's binary_error: 0.171358\n",
            "[73]\tvalid_0's binary_error: 0.168874\n",
            "[74]\tvalid_0's binary_error: 0.167219\n",
            "[75]\tvalid_0's binary_error: 0.168046\n",
            "[76]\tvalid_0's binary_error: 0.168046\n",
            "[77]\tvalid_0's binary_error: 0.168046\n",
            "[78]\tvalid_0's binary_error: 0.168874\n",
            "[79]\tvalid_0's binary_error: 0.169702\n",
            "[80]\tvalid_0's binary_error: 0.17053\n",
            "[81]\tvalid_0's binary_error: 0.171358\n",
            "[82]\tvalid_0's binary_error: 0.168874\n",
            "[83]\tvalid_0's binary_error: 0.168046\n",
            "[84]\tvalid_0's binary_error: 0.168046\n",
            "[85]\tvalid_0's binary_error: 0.167219\n",
            "[86]\tvalid_0's binary_error: 0.167219\n",
            "[87]\tvalid_0's binary_error: 0.168046\n",
            "[88]\tvalid_0's binary_error: 0.168046\n",
            "[89]\tvalid_0's binary_error: 0.168046\n",
            "[90]\tvalid_0's binary_error: 0.167219\n",
            "[91]\tvalid_0's binary_error: 0.168874\n",
            "[92]\tvalid_0's binary_error: 0.168046\n",
            "[93]\tvalid_0's binary_error: 0.169702\n",
            "[94]\tvalid_0's binary_error: 0.168046\n",
            "[95]\tvalid_0's binary_error: 0.168046\n",
            "Acuracy 0.831953642384106\n",
            "__________\n",
            "Recall 0.4\n",
            "__________\n",
            "F1 Score 0.3636363636363636\n",
            "__________\n"
          ]
        },
        {
          "output_type": "display_data",
          "data": {
            "image/png": "[encoded data removed]",
            "text/plain": [
              "<Figure size 432x288 with 2 Axes>"
            ]
          },
          "metadata": {
            "needs_background": "light"
          }
        },
        {
          "output_type": "display_data",
          "data": {
            "image/png": "[encoded data removed]",
            "text/plain": [
              "<Figure size 576x360 with 1 Axes>"
            ]
          },
          "metadata": {
            "needs_background": "light"
          }
        },
        {
          "output_type": "stream",
          "name": "stdout",
          "text": [
            "\n",
            "Validation auc: 0.7773510234534661\n",
            "================================Fold 2====================================\n",
            "[1]\tvalid_0's binary_error: 0.120033\n",
            "[2]\tvalid_0's binary_error: 0.118377\n",
            "[3]\tvalid_0's binary_error: 0.119205\n",
            "[4]\tvalid_0's binary_error: 0.13245\n",
            "[5]\tvalid_0's binary_error: 0.137417\n",
            "[6]\tvalid_0's binary_error: 0.158113\n",
            "[7]\tvalid_0's binary_error: 0.172185\n",
            "[8]\tvalid_0's binary_error: 0.169702\n",
            "[9]\tvalid_0's binary_error: 0.173841\n",
            "[10]\tvalid_0's binary_error: 0.179636\n",
            "[11]\tvalid_0's binary_error: 0.18543\n",
            "[12]\tvalid_0's binary_error: 0.191225\n",
            "[13]\tvalid_0's binary_error: 0.188742\n",
            "[14]\tvalid_0's binary_error: 0.190397\n",
            "[15]\tvalid_0's binary_error: 0.190397\n",
            "[16]\tvalid_0's binary_error: 0.18957\n",
            "[17]\tvalid_0's binary_error: 0.192053\n",
            "[18]\tvalid_0's binary_error: 0.196192\n",
            "[19]\tvalid_0's binary_error: 0.196192\n",
            "[20]\tvalid_0's binary_error: 0.192881\n",
            "[21]\tvalid_0's binary_error: 0.195364\n",
            "[22]\tvalid_0's binary_error: 0.192053\n",
            "[23]\tvalid_0's binary_error: 0.191225\n",
            "[24]\tvalid_0's binary_error: 0.187914\n",
            "[25]\tvalid_0's binary_error: 0.188742\n",
            "[26]\tvalid_0's binary_error: 0.187914\n",
            "[27]\tvalid_0's binary_error: 0.18543\n",
            "[28]\tvalid_0's binary_error: 0.187914\n",
            "[29]\tvalid_0's binary_error: 0.187086\n",
            "[30]\tvalid_0's binary_error: 0.187086\n",
            "[31]\tvalid_0's binary_error: 0.187086\n",
            "[32]\tvalid_0's binary_error: 0.18543\n",
            "[33]\tvalid_0's binary_error: 0.18543\n",
            "[34]\tvalid_0's binary_error: 0.183775\n",
            "[35]\tvalid_0's binary_error: 0.182947\n",
            "[36]\tvalid_0's binary_error: 0.182947\n",
            "[37]\tvalid_0's binary_error: 0.178808\n",
            "[38]\tvalid_0's binary_error: 0.179636\n",
            "[39]\tvalid_0's binary_error: 0.179636\n",
            "[40]\tvalid_0's binary_error: 0.180464\n",
            "[41]\tvalid_0's binary_error: 0.181291\n",
            "[42]\tvalid_0's binary_error: 0.179636\n",
            "[43]\tvalid_0's binary_error: 0.182947\n",
            "[44]\tvalid_0's binary_error: 0.182947\n",
            "[45]\tvalid_0's binary_error: 0.181291\n",
            "[46]\tvalid_0's binary_error: 0.180464\n",
            "[47]\tvalid_0's binary_error: 0.180464\n",
            "[48]\tvalid_0's binary_error: 0.181291\n",
            "[49]\tvalid_0's binary_error: 0.183775\n",
            "[50]\tvalid_0's binary_error: 0.183775\n",
            "[51]\tvalid_0's binary_error: 0.182119\n",
            "[52]\tvalid_0's binary_error: 0.182947\n",
            "[53]\tvalid_0's binary_error: 0.182119\n",
            "[54]\tvalid_0's binary_error: 0.181291\n",
            "[55]\tvalid_0's binary_error: 0.182947\n",
            "[56]\tvalid_0's binary_error: 0.179636\n",
            "[57]\tvalid_0's binary_error: 0.17798\n",
            "[58]\tvalid_0's binary_error: 0.178808\n",
            "[59]\tvalid_0's binary_error: 0.184603\n",
            "[60]\tvalid_0's binary_error: 0.183775\n",
            "[61]\tvalid_0's binary_error: 0.182947\n",
            "[62]\tvalid_0's binary_error: 0.182947\n",
            "[63]\tvalid_0's binary_error: 0.181291\n",
            "[64]\tvalid_0's binary_error: 0.182119\n",
            "[65]\tvalid_0's binary_error: 0.182947\n",
            "[66]\tvalid_0's binary_error: 0.180464\n",
            "[67]\tvalid_0's binary_error: 0.180464\n",
            "[68]\tvalid_0's binary_error: 0.182947\n",
            "[69]\tvalid_0's binary_error: 0.182119\n",
            "[70]\tvalid_0's binary_error: 0.181291\n",
            "[71]\tvalid_0's binary_error: 0.178808\n",
            "[72]\tvalid_0's binary_error: 0.178808\n",
            "[73]\tvalid_0's binary_error: 0.178808\n",
            "[74]\tvalid_0's binary_error: 0.179636\n",
            "[75]\tvalid_0's binary_error: 0.179636\n",
            "[76]\tvalid_0's binary_error: 0.179636\n",
            "[77]\tvalid_0's binary_error: 0.178808\n",
            "[78]\tvalid_0's binary_error: 0.179636\n",
            "[79]\tvalid_0's binary_error: 0.179636\n",
            "[80]\tvalid_0's binary_error: 0.179636\n",
            "[81]\tvalid_0's binary_error: 0.180464\n",
            "[82]\tvalid_0's binary_error: 0.180464\n",
            "[83]\tvalid_0's binary_error: 0.181291\n",
            "[84]\tvalid_0's binary_error: 0.179636\n",
            "[85]\tvalid_0's binary_error: 0.180464\n",
            "[86]\tvalid_0's binary_error: 0.182119\n",
            "[87]\tvalid_0's binary_error: 0.182947\n",
            "[88]\tvalid_0's binary_error: 0.183775\n",
            "[89]\tvalid_0's binary_error: 0.183775\n",
            "[90]\tvalid_0's binary_error: 0.183775\n",
            "[91]\tvalid_0's binary_error: 0.182119\n",
            "[92]\tvalid_0's binary_error: 0.181291\n",
            "[93]\tvalid_0's binary_error: 0.181291\n",
            "[94]\tvalid_0's binary_error: 0.180464\n",
            "[95]\tvalid_0's binary_error: 0.182119\n",
            "Acuracy 0.8178807947019867\n",
            "__________\n",
            "Recall 0.35172413793103446\n",
            "__________\n",
            "F1 Score 0.3167701863354037\n",
            "__________\n"
          ]
        },
        {
          "output_type": "display_data",
          "data": {
            "image/png": "[encoded data removed]",
            "text/plain": [
              "<Figure size 432x288 with 2 Axes>"
            ]
          },
          "metadata": {
            "needs_background": "light"
          }
        },
        {
          "output_type": "display_data",
          "data": {
            "image/png": "[encoded data removed]",
            "text/plain": [
              "<Figure size 576x360 with 1 Axes>"
            ]
          },
          "metadata": {
            "needs_background": "light"
          }
        },
        {
          "output_type": "stream",
          "name": "stdout",
          "text": [
            "\n",
            "Validation auc: 0.7732247704933985\n",
            "================================Fold 3====================================\n",
            "[1]\tvalid_0's binary_error: 0.120033\n",
            "[2]\tvalid_0's binary_error: 0.119205\n",
            "[3]\tvalid_0's binary_error: 0.11755\n",
            "[4]\tvalid_0's binary_error: 0.127483\n",
            "[5]\tvalid_0's binary_error: 0.138245\n",
            "[6]\tvalid_0's binary_error: 0.143212\n",
            "[7]\tvalid_0's binary_error: 0.149834\n",
            "[8]\tvalid_0's binary_error: 0.163079\n",
            "[9]\tvalid_0's binary_error: 0.175497\n",
            "[10]\tvalid_0's binary_error: 0.181291\n",
            "[11]\tvalid_0's binary_error: 0.182947\n",
            "[12]\tvalid_0's binary_error: 0.186258\n",
            "[13]\tvalid_0's binary_error: 0.187914\n",
            "[14]\tvalid_0's binary_error: 0.191225\n",
            "[15]\tvalid_0's binary_error: 0.190397\n",
            "[16]\tvalid_0's binary_error: 0.18957\n",
            "[17]\tvalid_0's binary_error: 0.191225\n",
            "[18]\tvalid_0's binary_error: 0.191225\n",
            "[19]\tvalid_0's binary_error: 0.187914\n",
            "[20]\tvalid_0's binary_error: 0.18957\n",
            "[21]\tvalid_0's binary_error: 0.187914\n",
            "[22]\tvalid_0's binary_error: 0.186258\n",
            "[23]\tvalid_0's binary_error: 0.186258\n",
            "[24]\tvalid_0's binary_error: 0.191225\n",
            "[25]\tvalid_0's binary_error: 0.18957\n",
            "[26]\tvalid_0's binary_error: 0.18957\n",
            "[27]\tvalid_0's binary_error: 0.186258\n",
            "[28]\tvalid_0's binary_error: 0.18543\n",
            "[29]\tvalid_0's binary_error: 0.187914\n",
            "[30]\tvalid_0's binary_error: 0.187086\n",
            "[31]\tvalid_0's binary_error: 0.187086\n",
            "[32]\tvalid_0's binary_error: 0.184603\n",
            "[33]\tvalid_0's binary_error: 0.182119\n",
            "[34]\tvalid_0's binary_error: 0.182119\n",
            "[35]\tvalid_0's binary_error: 0.182947\n",
            "[36]\tvalid_0's binary_error: 0.184603\n",
            "[37]\tvalid_0's binary_error: 0.182947\n",
            "[38]\tvalid_0's binary_error: 0.178808\n",
            "[39]\tvalid_0's binary_error: 0.180464\n",
            "[40]\tvalid_0's binary_error: 0.183775\n",
            "[41]\tvalid_0's binary_error: 0.182947\n",
            "[42]\tvalid_0's binary_error: 0.182119\n",
            "[43]\tvalid_0's binary_error: 0.183775\n",
            "[44]\tvalid_0's binary_error: 0.182947\n",
            "[45]\tvalid_0's binary_error: 0.183775\n",
            "[46]\tvalid_0's binary_error: 0.182947\n",
            "[47]\tvalid_0's binary_error: 0.182947\n",
            "[48]\tvalid_0's binary_error: 0.178808\n",
            "[49]\tvalid_0's binary_error: 0.178808\n",
            "[50]\tvalid_0's binary_error: 0.181291\n",
            "[51]\tvalid_0's binary_error: 0.181291\n",
            "[52]\tvalid_0's binary_error: 0.181291\n",
            "[53]\tvalid_0's binary_error: 0.184603\n",
            "[54]\tvalid_0's binary_error: 0.181291\n",
            "[55]\tvalid_0's binary_error: 0.182947\n",
            "[56]\tvalid_0's binary_error: 0.181291\n",
            "[57]\tvalid_0's binary_error: 0.180464\n",
            "[58]\tvalid_0's binary_error: 0.182119\n",
            "[59]\tvalid_0's binary_error: 0.176325\n",
            "[60]\tvalid_0's binary_error: 0.178808\n",
            "[61]\tvalid_0's binary_error: 0.177152\n",
            "[62]\tvalid_0's binary_error: 0.176325\n",
            "[63]\tvalid_0's binary_error: 0.175497\n",
            "[64]\tvalid_0's binary_error: 0.176325\n",
            "[65]\tvalid_0's binary_error: 0.176325\n",
            "[66]\tvalid_0's binary_error: 0.174669\n",
            "[67]\tvalid_0's binary_error: 0.176325\n",
            "[68]\tvalid_0's binary_error: 0.177152\n",
            "[69]\tvalid_0's binary_error: 0.177152\n",
            "[70]\tvalid_0's binary_error: 0.175497\n",
            "[71]\tvalid_0's binary_error: 0.180464\n",
            "[72]\tvalid_0's binary_error: 0.179636\n",
            "[73]\tvalid_0's binary_error: 0.181291\n",
            "[74]\tvalid_0's binary_error: 0.180464\n",
            "[75]\tvalid_0's binary_error: 0.175497\n",
            "[76]\tvalid_0's binary_error: 0.174669\n",
            "[77]\tvalid_0's binary_error: 0.177152\n",
            "[78]\tvalid_0's binary_error: 0.17798\n",
            "[79]\tvalid_0's binary_error: 0.175497\n",
            "[80]\tvalid_0's binary_error: 0.175497\n",
            "[81]\tvalid_0's binary_error: 0.174669\n",
            "[82]\tvalid_0's binary_error: 0.174669\n",
            "[83]\tvalid_0's binary_error: 0.173841\n",
            "[84]\tvalid_0's binary_error: 0.173013\n",
            "[85]\tvalid_0's binary_error: 0.175497\n",
            "[86]\tvalid_0's binary_error: 0.175497\n",
            "[87]\tvalid_0's binary_error: 0.176325\n",
            "[88]\tvalid_0's binary_error: 0.176325\n",
            "[89]\tvalid_0's binary_error: 0.175497\n",
            "[90]\tvalid_0's binary_error: 0.175497\n",
            "[91]\tvalid_0's binary_error: 0.175497\n",
            "[92]\tvalid_0's binary_error: 0.175497\n",
            "[93]\tvalid_0's binary_error: 0.174669\n",
            "[94]\tvalid_0's binary_error: 0.173841\n",
            "[95]\tvalid_0's binary_error: 0.173841\n",
            "Acuracy 0.8261589403973509\n",
            "__________\n",
            "Recall 0.4068965517241379\n",
            "__________\n",
            "F1 Score 0.3597560975609756\n",
            "__________\n"
          ]
        },
        {
          "output_type": "display_data",
          "data": {
            "image/png": "[encoded data removed]",
            "text/plain": [
              "<Figure size 432x288 with 2 Axes>"
            ]
          },
          "metadata": {
            "needs_background": "light"
          }
        },
        {
          "output_type": "display_data",
          "data": {
            "image/png": "[encoded data removed]",
            "text/plain": [
              "<Figure size 576x360 with 1 Axes>"
            ]
          },
          "metadata": {
            "needs_background": "light"
          }
        },
        {
          "output_type": "stream",
          "name": "stdout",
          "text": [
            "\n",
            "Validation auc: 0.7810069095273623\n",
            "================================Fold 4====================================\n",
            "[1]\tvalid_0's binary_error: 0.120033\n",
            "[2]\tvalid_0's binary_error: 0.116722\n",
            "[3]\tvalid_0's binary_error: 0.115894\n",
            "[4]\tvalid_0's binary_error: 0.115894\n",
            "[5]\tvalid_0's binary_error: 0.124172\n",
            "[6]\tvalid_0's binary_error: 0.129139\n",
            "[7]\tvalid_0's binary_error: 0.139073\n",
            "[8]\tvalid_0's binary_error: 0.148179\n",
            "[9]\tvalid_0's binary_error: 0.147351\n",
            "[10]\tvalid_0's binary_error: 0.155629\n",
            "[11]\tvalid_0's binary_error: 0.157285\n",
            "[12]\tvalid_0's binary_error: 0.163907\n",
            "[13]\tvalid_0's binary_error: 0.165563\n",
            "[14]\tvalid_0's binary_error: 0.173841\n",
            "[15]\tvalid_0's binary_error: 0.173013\n",
            "[16]\tvalid_0's binary_error: 0.171358\n",
            "[17]\tvalid_0's binary_error: 0.176325\n",
            "[18]\tvalid_0's binary_error: 0.177152\n",
            "[19]\tvalid_0's binary_error: 0.175497\n",
            "[20]\tvalid_0's binary_error: 0.177152\n",
            "[21]\tvalid_0's binary_error: 0.176325\n",
            "[22]\tvalid_0's binary_error: 0.178808\n",
            "[23]\tvalid_0's binary_error: 0.177152\n",
            "[24]\tvalid_0's binary_error: 0.177152\n",
            "[25]\tvalid_0's binary_error: 0.174669\n",
            "[26]\tvalid_0's binary_error: 0.173841\n",
            "[27]\tvalid_0's binary_error: 0.176325\n",
            "[28]\tvalid_0's binary_error: 0.175497\n",
            "[29]\tvalid_0's binary_error: 0.178808\n",
            "[30]\tvalid_0's binary_error: 0.176325\n",
            "[31]\tvalid_0's binary_error: 0.176325\n",
            "[32]\tvalid_0's binary_error: 0.174669\n",
            "[33]\tvalid_0's binary_error: 0.176325\n",
            "[34]\tvalid_0's binary_error: 0.175497\n",
            "[35]\tvalid_0's binary_error: 0.172185\n",
            "[36]\tvalid_0's binary_error: 0.171358\n",
            "[37]\tvalid_0's binary_error: 0.17053\n",
            "[38]\tvalid_0's binary_error: 0.172185\n",
            "[39]\tvalid_0's binary_error: 0.172185\n",
            "[40]\tvalid_0's binary_error: 0.17053\n",
            "[41]\tvalid_0's binary_error: 0.167219\n",
            "[42]\tvalid_0's binary_error: 0.169702\n",
            "[43]\tvalid_0's binary_error: 0.168874\n",
            "[44]\tvalid_0's binary_error: 0.168874\n",
            "[45]\tvalid_0's binary_error: 0.168874\n",
            "[46]\tvalid_0's binary_error: 0.166391\n",
            "[47]\tvalid_0's binary_error: 0.166391\n",
            "[48]\tvalid_0's binary_error: 0.164735\n",
            "[49]\tvalid_0's binary_error: 0.162252\n",
            "[50]\tvalid_0's binary_error: 0.163079\n",
            "[51]\tvalid_0's binary_error: 0.164735\n",
            "[52]\tvalid_0's binary_error: 0.164735\n",
            "[53]\tvalid_0's binary_error: 0.163907\n",
            "[54]\tvalid_0's binary_error: 0.162252\n",
            "[55]\tvalid_0's binary_error: 0.163079\n",
            "[56]\tvalid_0's binary_error: 0.164735\n",
            "[57]\tvalid_0's binary_error: 0.164735\n",
            "[58]\tvalid_0's binary_error: 0.167219\n",
            "[59]\tvalid_0's binary_error: 0.163907\n",
            "[60]\tvalid_0's binary_error: 0.163907\n",
            "[61]\tvalid_0's binary_error: 0.163907\n",
            "[62]\tvalid_0's binary_error: 0.163907\n",
            "[63]\tvalid_0's binary_error: 0.162252\n",
            "[64]\tvalid_0's binary_error: 0.163907\n",
            "[65]\tvalid_0's binary_error: 0.163907\n",
            "[66]\tvalid_0's binary_error: 0.164735\n",
            "[67]\tvalid_0's binary_error: 0.164735\n",
            "[68]\tvalid_0's binary_error: 0.163907\n",
            "[69]\tvalid_0's binary_error: 0.162252\n",
            "[70]\tvalid_0's binary_error: 0.160596\n",
            "[71]\tvalid_0's binary_error: 0.161424\n",
            "[72]\tvalid_0's binary_error: 0.159768\n",
            "[73]\tvalid_0's binary_error: 0.161424\n",
            "[74]\tvalid_0's binary_error: 0.161424\n",
            "[75]\tvalid_0's binary_error: 0.161424\n",
            "[76]\tvalid_0's binary_error: 0.159768\n",
            "[77]\tvalid_0's binary_error: 0.15894\n",
            "[78]\tvalid_0's binary_error: 0.161424\n",
            "[79]\tvalid_0's binary_error: 0.160596\n",
            "[80]\tvalid_0's binary_error: 0.161424\n",
            "[81]\tvalid_0's binary_error: 0.163079\n",
            "[82]\tvalid_0's binary_error: 0.161424\n",
            "[83]\tvalid_0's binary_error: 0.162252\n",
            "[84]\tvalid_0's binary_error: 0.161424\n",
            "[85]\tvalid_0's binary_error: 0.161424\n",
            "[86]\tvalid_0's binary_error: 0.162252\n",
            "[87]\tvalid_0's binary_error: 0.161424\n",
            "[88]\tvalid_0's binary_error: 0.160596\n",
            "[89]\tvalid_0's binary_error: 0.15894\n",
            "[90]\tvalid_0's binary_error: 0.159768\n",
            "[91]\tvalid_0's binary_error: 0.15894\n",
            "[92]\tvalid_0's binary_error: 0.15894\n",
            "[93]\tvalid_0's binary_error: 0.158113\n",
            "[94]\tvalid_0's binary_error: 0.158113\n",
            "[95]\tvalid_0's binary_error: 0.15894\n",
            "Acuracy 0.8410596026490066\n",
            "__________\n",
            "Recall 0.45517241379310347\n",
            "__________\n",
            "F1 Score 0.40740740740740744\n",
            "__________\n"
          ]
        },
        {
          "output_type": "display_data",
          "data": {
            "image/png": "[encoded data removed]",
            "text/plain": [
              "<Figure size 432x288 with 2 Axes>"
            ]
          },
          "metadata": {
            "needs_background": "light"
          }
        },
        {
          "output_type": "display_data",
          "data": {
            "image/png": "[encoded data removed]",
            "text/plain": [
              "<Figure size 576x360 with 1 Axes>"
            ]
          },
          "metadata": {
            "needs_background": "light"
          }
        },
        {
          "output_type": "stream",
          "name": "stdout",
          "text": [
            "\n",
            "Validation auc: 0.8287961851623578\n",
            "================================Fold 5====================================\n",
            "[1]\tvalid_0's binary_error: 0.120861\n",
            "[2]\tvalid_0's binary_error: 0.119205\n",
            "[3]\tvalid_0's binary_error: 0.114238\n",
            "[4]\tvalid_0's binary_error: 0.125\n",
            "[5]\tvalid_0's binary_error: 0.137417\n",
            "[6]\tvalid_0's binary_error: 0.139073\n",
            "[7]\tvalid_0's binary_error: 0.145695\n",
            "[8]\tvalid_0's binary_error: 0.153974\n",
            "[9]\tvalid_0's binary_error: 0.169702\n",
            "[10]\tvalid_0's binary_error: 0.173841\n",
            "[11]\tvalid_0's binary_error: 0.176325\n",
            "[12]\tvalid_0's binary_error: 0.176325\n",
            "[13]\tvalid_0's binary_error: 0.177152\n",
            "[14]\tvalid_0's binary_error: 0.182947\n",
            "[15]\tvalid_0's binary_error: 0.192053\n",
            "[16]\tvalid_0's binary_error: 0.187914\n",
            "[17]\tvalid_0's binary_error: 0.187914\n",
            "[18]\tvalid_0's binary_error: 0.191225\n",
            "[19]\tvalid_0's binary_error: 0.188742\n",
            "[20]\tvalid_0's binary_error: 0.182947\n",
            "[21]\tvalid_0's binary_error: 0.178808\n",
            "[22]\tvalid_0's binary_error: 0.17798\n",
            "[23]\tvalid_0's binary_error: 0.176325\n",
            "[24]\tvalid_0's binary_error: 0.17798\n",
            "[25]\tvalid_0's binary_error: 0.179636\n",
            "[26]\tvalid_0's binary_error: 0.181291\n",
            "[27]\tvalid_0's binary_error: 0.181291\n",
            "[28]\tvalid_0's binary_error: 0.184603\n",
            "[29]\tvalid_0's binary_error: 0.181291\n",
            "[30]\tvalid_0's binary_error: 0.181291\n",
            "[31]\tvalid_0's binary_error: 0.179636\n",
            "[32]\tvalid_0's binary_error: 0.178808\n",
            "[33]\tvalid_0's binary_error: 0.178808\n",
            "[34]\tvalid_0's binary_error: 0.180464\n",
            "[35]\tvalid_0's binary_error: 0.178808\n",
            "[36]\tvalid_0's binary_error: 0.180464\n",
            "[37]\tvalid_0's binary_error: 0.17798\n",
            "[38]\tvalid_0's binary_error: 0.179636\n",
            "[39]\tvalid_0's binary_error: 0.177152\n",
            "[40]\tvalid_0's binary_error: 0.173841\n",
            "[41]\tvalid_0's binary_error: 0.173841\n",
            "[42]\tvalid_0's binary_error: 0.173841\n",
            "[43]\tvalid_0's binary_error: 0.175497\n",
            "[44]\tvalid_0's binary_error: 0.173013\n",
            "[45]\tvalid_0's binary_error: 0.171358\n",
            "[46]\tvalid_0's binary_error: 0.17053\n",
            "[47]\tvalid_0's binary_error: 0.17053\n",
            "[48]\tvalid_0's binary_error: 0.169702\n",
            "[49]\tvalid_0's binary_error: 0.17053\n",
            "[50]\tvalid_0's binary_error: 0.168046\n",
            "[51]\tvalid_0's binary_error: 0.171358\n",
            "[52]\tvalid_0's binary_error: 0.171358\n",
            "[53]\tvalid_0's binary_error: 0.17053\n",
            "[54]\tvalid_0's binary_error: 0.17053\n",
            "[55]\tvalid_0's binary_error: 0.169702\n",
            "[56]\tvalid_0's binary_error: 0.168874\n",
            "[57]\tvalid_0's binary_error: 0.169702\n",
            "[58]\tvalid_0's binary_error: 0.17053\n",
            "[59]\tvalid_0's binary_error: 0.17053\n",
            "[60]\tvalid_0's binary_error: 0.17053\n",
            "[61]\tvalid_0's binary_error: 0.17053\n",
            "[62]\tvalid_0's binary_error: 0.168874\n",
            "[63]\tvalid_0's binary_error: 0.167219\n",
            "[64]\tvalid_0's binary_error: 0.167219\n",
            "[65]\tvalid_0's binary_error: 0.167219\n",
            "[66]\tvalid_0's binary_error: 0.167219\n",
            "[67]\tvalid_0's binary_error: 0.168874\n",
            "[68]\tvalid_0's binary_error: 0.168046\n",
            "[69]\tvalid_0's binary_error: 0.168874\n",
            "[70]\tvalid_0's binary_error: 0.169702\n",
            "[71]\tvalid_0's binary_error: 0.168046\n",
            "[72]\tvalid_0's binary_error: 0.167219\n",
            "[73]\tvalid_0's binary_error: 0.168046\n",
            "[74]\tvalid_0's binary_error: 0.167219\n",
            "[75]\tvalid_0's binary_error: 0.165563\n",
            "[76]\tvalid_0's binary_error: 0.164735\n",
            "[77]\tvalid_0's binary_error: 0.165563\n",
            "[78]\tvalid_0's binary_error: 0.164735\n",
            "[79]\tvalid_0's binary_error: 0.165563\n",
            "[80]\tvalid_0's binary_error: 0.166391\n",
            "[81]\tvalid_0's binary_error: 0.166391\n",
            "[82]\tvalid_0's binary_error: 0.165563\n",
            "[83]\tvalid_0's binary_error: 0.164735\n",
            "[84]\tvalid_0's binary_error: 0.164735\n",
            "[85]\tvalid_0's binary_error: 0.164735\n",
            "[86]\tvalid_0's binary_error: 0.163079\n",
            "[87]\tvalid_0's binary_error: 0.162252\n",
            "[88]\tvalid_0's binary_error: 0.163079\n",
            "[89]\tvalid_0's binary_error: 0.163079\n",
            "[90]\tvalid_0's binary_error: 0.163079\n",
            "[91]\tvalid_0's binary_error: 0.162252\n",
            "[92]\tvalid_0's binary_error: 0.161424\n",
            "[93]\tvalid_0's binary_error: 0.159768\n",
            "[94]\tvalid_0's binary_error: 0.159768\n",
            "[95]\tvalid_0's binary_error: 0.161424\n",
            "Acuracy 0.8385761589403974\n",
            "__________\n",
            "Recall 0.3767123287671233\n",
            "__________\n",
            "F1 Score 0.36065573770491804\n",
            "__________\n"
          ]
        },
        {
          "output_type": "display_data",
          "data": {
            "image/png": "[encoded data removed]",
            "text/plain": [
              "<Figure size 432x288 with 2 Axes>"
            ]
          },
          "metadata": {
            "needs_background": "light"
          }
        },
        {
          "output_type": "display_data",
          "data": {
            "image/png": "[encoded data removed]",
            "text/plain": [
              "<Figure size 576x360 with 1 Axes>"
            ]
          },
          "metadata": {
            "needs_background": "light"
          }
        },
        {
          "output_type": "stream",
          "name": "stdout",
          "text": [
            "\n",
            "Validation auc: 0.7950752005778706\n",
            "================================Fold 6====================================\n",
            "[1]\tvalid_0's binary_error: 0.120861\n",
            "[2]\tvalid_0's binary_error: 0.115894\n",
            "[3]\tvalid_0's binary_error: 0.113411\n",
            "[4]\tvalid_0's binary_error: 0.10596\n",
            "[5]\tvalid_0's binary_error: 0.115894\n",
            "[6]\tvalid_0's binary_error: 0.131623\n",
            "[7]\tvalid_0's binary_error: 0.152318\n",
            "[8]\tvalid_0's binary_error: 0.156457\n",
            "[9]\tvalid_0's binary_error: 0.164735\n",
            "[10]\tvalid_0's binary_error: 0.180464\n",
            "[11]\tvalid_0's binary_error: 0.178808\n",
            "[12]\tvalid_0's binary_error: 0.177152\n",
            "[13]\tvalid_0's binary_error: 0.17798\n",
            "[14]\tvalid_0's binary_error: 0.175497\n",
            "[15]\tvalid_0's binary_error: 0.174669\n",
            "[16]\tvalid_0's binary_error: 0.175497\n",
            "[17]\tvalid_0's binary_error: 0.177152\n",
            "[18]\tvalid_0's binary_error: 0.179636\n",
            "[19]\tvalid_0's binary_error: 0.180464\n",
            "[20]\tvalid_0's binary_error: 0.180464\n",
            "[21]\tvalid_0's binary_error: 0.181291\n",
            "[22]\tvalid_0's binary_error: 0.182119\n",
            "[23]\tvalid_0's binary_error: 0.181291\n",
            "[24]\tvalid_0's binary_error: 0.178808\n",
            "[25]\tvalid_0's binary_error: 0.176325\n",
            "[26]\tvalid_0's binary_error: 0.176325\n",
            "[27]\tvalid_0's binary_error: 0.173841\n",
            "[28]\tvalid_0's binary_error: 0.173841\n",
            "[29]\tvalid_0's binary_error: 0.174669\n",
            "[30]\tvalid_0's binary_error: 0.173841\n",
            "[31]\tvalid_0's binary_error: 0.17053\n",
            "[32]\tvalid_0's binary_error: 0.168874\n",
            "[33]\tvalid_0's binary_error: 0.169702\n",
            "[34]\tvalid_0's binary_error: 0.169702\n",
            "[35]\tvalid_0's binary_error: 0.168874\n",
            "[36]\tvalid_0's binary_error: 0.163907\n",
            "[37]\tvalid_0's binary_error: 0.166391\n",
            "[38]\tvalid_0's binary_error: 0.168046\n",
            "[39]\tvalid_0's binary_error: 0.166391\n",
            "[40]\tvalid_0's binary_error: 0.165563\n",
            "[41]\tvalid_0's binary_error: 0.169702\n",
            "[42]\tvalid_0's binary_error: 0.17053\n",
            "[43]\tvalid_0's binary_error: 0.17053\n",
            "[44]\tvalid_0's binary_error: 0.169702\n",
            "[45]\tvalid_0's binary_error: 0.169702\n",
            "[46]\tvalid_0's binary_error: 0.168046\n",
            "[47]\tvalid_0's binary_error: 0.168046\n",
            "[48]\tvalid_0's binary_error: 0.166391\n",
            "[49]\tvalid_0's binary_error: 0.163907\n",
            "[50]\tvalid_0's binary_error: 0.168046\n",
            "[51]\tvalid_0's binary_error: 0.166391\n",
            "[52]\tvalid_0's binary_error: 0.165563\n",
            "[53]\tvalid_0's binary_error: 0.164735\n",
            "[54]\tvalid_0's binary_error: 0.165563\n",
            "[55]\tvalid_0's binary_error: 0.165563\n",
            "[56]\tvalid_0's binary_error: 0.163079\n",
            "[57]\tvalid_0's binary_error: 0.163907\n",
            "[58]\tvalid_0's binary_error: 0.165563\n",
            "[59]\tvalid_0's binary_error: 0.164735\n",
            "[60]\tvalid_0's binary_error: 0.164735\n",
            "[61]\tvalid_0's binary_error: 0.161424\n",
            "[62]\tvalid_0's binary_error: 0.161424\n",
            "[63]\tvalid_0's binary_error: 0.163907\n",
            "[64]\tvalid_0's binary_error: 0.165563\n",
            "[65]\tvalid_0's binary_error: 0.164735\n",
            "[66]\tvalid_0's binary_error: 0.164735\n",
            "[67]\tvalid_0's binary_error: 0.163907\n",
            "[68]\tvalid_0's binary_error: 0.167219\n",
            "[69]\tvalid_0's binary_error: 0.165563\n",
            "[70]\tvalid_0's binary_error: 0.166391\n",
            "[71]\tvalid_0's binary_error: 0.166391\n",
            "[72]\tvalid_0's binary_error: 0.163907\n",
            "[73]\tvalid_0's binary_error: 0.161424\n",
            "[74]\tvalid_0's binary_error: 0.15894\n",
            "[75]\tvalid_0's binary_error: 0.160596\n",
            "[76]\tvalid_0's binary_error: 0.163079\n",
            "[77]\tvalid_0's binary_error: 0.163079\n",
            "[78]\tvalid_0's binary_error: 0.163079\n",
            "[79]\tvalid_0's binary_error: 0.163907\n",
            "[80]\tvalid_0's binary_error: 0.161424\n",
            "[81]\tvalid_0's binary_error: 0.160596\n",
            "[82]\tvalid_0's binary_error: 0.158113\n",
            "[83]\tvalid_0's binary_error: 0.158113\n",
            "[84]\tvalid_0's binary_error: 0.158113\n",
            "[85]\tvalid_0's binary_error: 0.15894\n",
            "[86]\tvalid_0's binary_error: 0.158113\n",
            "[87]\tvalid_0's binary_error: 0.157285\n",
            "[88]\tvalid_0's binary_error: 0.157285\n",
            "[89]\tvalid_0's binary_error: 0.156457\n",
            "[90]\tvalid_0's binary_error: 0.157285\n",
            "[91]\tvalid_0's binary_error: 0.157285\n",
            "[92]\tvalid_0's binary_error: 0.159768\n",
            "[93]\tvalid_0's binary_error: 0.159768\n",
            "[94]\tvalid_0's binary_error: 0.160596\n",
            "[95]\tvalid_0's binary_error: 0.158113\n",
            "Acuracy 0.8418874172185431\n",
            "__________\n",
            "Recall 0.5273972602739726\n",
            "__________\n",
            "F1 Score 0.4463768115942029\n",
            "__________\n"
          ]
        },
        {
          "output_type": "display_data",
          "data": {
            "image/png": "[encoded data removed]",
            "text/plain": [
              "<Figure size 432x288 with 2 Axes>"
            ]
          },
          "metadata": {
            "needs_background": "light"
          }
        },
        {
          "output_type": "display_data",
          "data": {
            "image/png": "[encoded data removed]",
            "text/plain": [
              "<Figure size 576x360 with 1 Axes>"
            ]
          },
          "metadata": {
            "needs_background": "light"
          }
        },
        {
          "output_type": "stream",
          "name": "stdout",
          "text": [
            "\n",
            "Validation auc: 0.8041205531047648\n",
            "================================Fold 7====================================\n",
            "[1]\tvalid_0's binary_error: 0.120861\n",
            "[2]\tvalid_0's binary_error: 0.121689\n",
            "[3]\tvalid_0's binary_error: 0.114238\n",
            "[4]\tvalid_0's binary_error: 0.124172\n",
            "[5]\tvalid_0's binary_error: 0.135762\n",
            "[6]\tvalid_0's binary_error: 0.143212\n",
            "[7]\tvalid_0's binary_error: 0.152318\n",
            "[8]\tvalid_0's binary_error: 0.159768\n",
            "[9]\tvalid_0's binary_error: 0.171358\n",
            "[10]\tvalid_0's binary_error: 0.17798\n",
            "[11]\tvalid_0's binary_error: 0.191225\n",
            "[12]\tvalid_0's binary_error: 0.192053\n",
            "[13]\tvalid_0's binary_error: 0.198675\n",
            "[14]\tvalid_0's binary_error: 0.197848\n",
            "[15]\tvalid_0's binary_error: 0.193709\n",
            "[16]\tvalid_0's binary_error: 0.195364\n",
            "[17]\tvalid_0's binary_error: 0.202815\n",
            "[18]\tvalid_0's binary_error: 0.197848\n",
            "[19]\tvalid_0's binary_error: 0.19702\n",
            "[20]\tvalid_0's binary_error: 0.197848\n",
            "[21]\tvalid_0's binary_error: 0.201987\n",
            "[22]\tvalid_0's binary_error: 0.203642\n",
            "[23]\tvalid_0's binary_error: 0.202815\n",
            "[24]\tvalid_0's binary_error: 0.20447\n",
            "[25]\tvalid_0's binary_error: 0.203642\n",
            "[26]\tvalid_0's binary_error: 0.199503\n",
            "[27]\tvalid_0's binary_error: 0.203642\n",
            "[28]\tvalid_0's binary_error: 0.205298\n",
            "[29]\tvalid_0's binary_error: 0.205298\n",
            "[30]\tvalid_0's binary_error: 0.208609\n",
            "[31]\tvalid_0's binary_error: 0.206954\n",
            "[32]\tvalid_0's binary_error: 0.206954\n",
            "[33]\tvalid_0's binary_error: 0.206126\n",
            "[34]\tvalid_0's binary_error: 0.206126\n",
            "[35]\tvalid_0's binary_error: 0.206954\n",
            "[36]\tvalid_0's binary_error: 0.206126\n",
            "[37]\tvalid_0's binary_error: 0.203642\n",
            "[38]\tvalid_0's binary_error: 0.201159\n",
            "[39]\tvalid_0's binary_error: 0.202815\n",
            "[40]\tvalid_0's binary_error: 0.201987\n",
            "[41]\tvalid_0's binary_error: 0.199503\n",
            "[42]\tvalid_0's binary_error: 0.199503\n",
            "[43]\tvalid_0's binary_error: 0.196192\n",
            "[44]\tvalid_0's binary_error: 0.194536\n",
            "[45]\tvalid_0's binary_error: 0.195364\n",
            "[46]\tvalid_0's binary_error: 0.193709\n",
            "[47]\tvalid_0's binary_error: 0.192881\n",
            "[48]\tvalid_0's binary_error: 0.192053\n",
            "[49]\tvalid_0's binary_error: 0.190397\n",
            "[50]\tvalid_0's binary_error: 0.190397\n",
            "[51]\tvalid_0's binary_error: 0.190397\n",
            "[52]\tvalid_0's binary_error: 0.192053\n",
            "[53]\tvalid_0's binary_error: 0.192053\n",
            "[54]\tvalid_0's binary_error: 0.191225\n",
            "[55]\tvalid_0's binary_error: 0.192053\n",
            "[56]\tvalid_0's binary_error: 0.193709\n",
            "[57]\tvalid_0's binary_error: 0.192053\n",
            "[58]\tvalid_0's binary_error: 0.191225\n",
            "[59]\tvalid_0's binary_error: 0.187086\n",
            "[60]\tvalid_0's binary_error: 0.18543\n",
            "[61]\tvalid_0's binary_error: 0.184603\n",
            "[62]\tvalid_0's binary_error: 0.184603\n",
            "[63]\tvalid_0's binary_error: 0.182947\n",
            "[64]\tvalid_0's binary_error: 0.183775\n",
            "[65]\tvalid_0's binary_error: 0.182947\n",
            "[66]\tvalid_0's binary_error: 0.182947\n",
            "[67]\tvalid_0's binary_error: 0.182947\n",
            "[68]\tvalid_0's binary_error: 0.182119\n",
            "[69]\tvalid_0's binary_error: 0.182947\n",
            "[70]\tvalid_0's binary_error: 0.182947\n",
            "[71]\tvalid_0's binary_error: 0.183775\n",
            "[72]\tvalid_0's binary_error: 0.183775\n",
            "[73]\tvalid_0's binary_error: 0.182947\n",
            "[74]\tvalid_0's binary_error: 0.183775\n",
            "[75]\tvalid_0's binary_error: 0.183775\n",
            "[76]\tvalid_0's binary_error: 0.182947\n",
            "[77]\tvalid_0's binary_error: 0.183775\n",
            "[78]\tvalid_0's binary_error: 0.182947\n",
            "[79]\tvalid_0's binary_error: 0.182119\n",
            "[80]\tvalid_0's binary_error: 0.182119\n",
            "[81]\tvalid_0's binary_error: 0.181291\n",
            "[82]\tvalid_0's binary_error: 0.182119\n",
            "[83]\tvalid_0's binary_error: 0.181291\n",
            "[84]\tvalid_0's binary_error: 0.180464\n",
            "[85]\tvalid_0's binary_error: 0.17798\n",
            "[86]\tvalid_0's binary_error: 0.178808\n",
            "[87]\tvalid_0's binary_error: 0.178808\n",
            "[88]\tvalid_0's binary_error: 0.178808\n",
            "[89]\tvalid_0's binary_error: 0.178808\n",
            "[90]\tvalid_0's binary_error: 0.178808\n",
            "[91]\tvalid_0's binary_error: 0.178808\n",
            "[92]\tvalid_0's binary_error: 0.178808\n",
            "[93]\tvalid_0's binary_error: 0.179636\n",
            "[94]\tvalid_0's binary_error: 0.17798\n",
            "[95]\tvalid_0's binary_error: 0.178808\n",
            "Acuracy 0.8211920529801324\n",
            "__________\n",
            "Recall 0.410958904109589\n",
            "__________\n",
            "F1 Score 0.35714285714285715\n",
            "__________\n"
          ]
        },
        {
          "output_type": "display_data",
          "data": {
            "image/png": "[encoded data removed]",
            "text/plain": [
              "<Figure size 432x288 with 2 Axes>"
            ]
          },
          "metadata": {
            "needs_background": "light"
          }
        },
        {
          "output_type": "display_data",
          "data": {
            "image/png": "[encoded data removed]",
            "text/plain": [
              "<Figure size 576x360 with 1 Axes>"
            ]
          },
          "metadata": {
            "needs_background": "light"
          }
        },
        {
          "output_type": "stream",
          "name": "stdout",
          "text": [
            "\n",
            "Validation auc: 0.7761654154735185\n",
            "================================Fold 8====================================\n",
            "[1]\tvalid_0's binary_error: 0.120861\n",
            "[2]\tvalid_0's binary_error: 0.120861\n",
            "[3]\tvalid_0's binary_error: 0.115066\n",
            "[4]\tvalid_0's binary_error: 0.122517\n",
            "[5]\tvalid_0's binary_error: 0.13245\n",
            "[6]\tvalid_0's binary_error: 0.139901\n",
            "[7]\tvalid_0's binary_error: 0.148179\n",
            "[8]\tvalid_0's binary_error: 0.158113\n",
            "[9]\tvalid_0's binary_error: 0.161424\n",
            "[10]\tvalid_0's binary_error: 0.163079\n",
            "[11]\tvalid_0's binary_error: 0.17053\n",
            "[12]\tvalid_0's binary_error: 0.176325\n",
            "[13]\tvalid_0's binary_error: 0.17798\n",
            "[14]\tvalid_0's binary_error: 0.179636\n",
            "[15]\tvalid_0's binary_error: 0.181291\n",
            "[16]\tvalid_0's binary_error: 0.181291\n",
            "[17]\tvalid_0's binary_error: 0.178808\n",
            "[18]\tvalid_0's binary_error: 0.180464\n",
            "[19]\tvalid_0's binary_error: 0.179636\n",
            "[20]\tvalid_0's binary_error: 0.179636\n",
            "[21]\tvalid_0's binary_error: 0.180464\n",
            "[22]\tvalid_0's binary_error: 0.181291\n",
            "[23]\tvalid_0's binary_error: 0.183775\n",
            "[24]\tvalid_0's binary_error: 0.182947\n",
            "[25]\tvalid_0's binary_error: 0.180464\n",
            "[26]\tvalid_0's binary_error: 0.18543\n",
            "[27]\tvalid_0's binary_error: 0.179636\n",
            "[28]\tvalid_0's binary_error: 0.181291\n",
            "[29]\tvalid_0's binary_error: 0.175497\n",
            "[30]\tvalid_0's binary_error: 0.177152\n",
            "[31]\tvalid_0's binary_error: 0.177152\n",
            "[32]\tvalid_0's binary_error: 0.174669\n",
            "[33]\tvalid_0's binary_error: 0.174669\n",
            "[34]\tvalid_0's binary_error: 0.17053\n",
            "[35]\tvalid_0's binary_error: 0.168874\n",
            "[36]\tvalid_0's binary_error: 0.169702\n",
            "[37]\tvalid_0's binary_error: 0.168046\n",
            "[38]\tvalid_0's binary_error: 0.165563\n",
            "[39]\tvalid_0's binary_error: 0.165563\n",
            "[40]\tvalid_0's binary_error: 0.162252\n",
            "[41]\tvalid_0's binary_error: 0.163907\n",
            "[42]\tvalid_0's binary_error: 0.164735\n",
            "[43]\tvalid_0's binary_error: 0.160596\n",
            "[44]\tvalid_0's binary_error: 0.155629\n",
            "[45]\tvalid_0's binary_error: 0.158113\n",
            "[46]\tvalid_0's binary_error: 0.157285\n",
            "[47]\tvalid_0's binary_error: 0.158113\n",
            "[48]\tvalid_0's binary_error: 0.157285\n",
            "[49]\tvalid_0's binary_error: 0.15894\n",
            "[50]\tvalid_0's binary_error: 0.160596\n",
            "[51]\tvalid_0's binary_error: 0.160596\n",
            "[52]\tvalid_0's binary_error: 0.161424\n",
            "[53]\tvalid_0's binary_error: 0.164735\n",
            "[54]\tvalid_0's binary_error: 0.163079\n",
            "[55]\tvalid_0's binary_error: 0.162252\n",
            "[56]\tvalid_0's binary_error: 0.163079\n",
            "[57]\tvalid_0's binary_error: 0.159768\n",
            "[58]\tvalid_0's binary_error: 0.159768\n",
            "[59]\tvalid_0's binary_error: 0.163079\n",
            "[60]\tvalid_0's binary_error: 0.162252\n",
            "[61]\tvalid_0's binary_error: 0.164735\n",
            "[62]\tvalid_0's binary_error: 0.164735\n",
            "[63]\tvalid_0's binary_error: 0.164735\n",
            "[64]\tvalid_0's binary_error: 0.163907\n",
            "[65]\tvalid_0's binary_error: 0.163079\n",
            "[66]\tvalid_0's binary_error: 0.162252\n",
            "[67]\tvalid_0's binary_error: 0.161424\n",
            "[68]\tvalid_0's binary_error: 0.161424\n",
            "[69]\tvalid_0's binary_error: 0.159768\n",
            "[70]\tvalid_0's binary_error: 0.160596\n",
            "[71]\tvalid_0's binary_error: 0.159768\n",
            "[72]\tvalid_0's binary_error: 0.15894\n",
            "[73]\tvalid_0's binary_error: 0.15894\n",
            "[74]\tvalid_0's binary_error: 0.15894\n",
            "[75]\tvalid_0's binary_error: 0.160596\n",
            "[76]\tvalid_0's binary_error: 0.160596\n",
            "[77]\tvalid_0's binary_error: 0.161424\n",
            "[78]\tvalid_0's binary_error: 0.161424\n",
            "[79]\tvalid_0's binary_error: 0.15894\n",
            "[80]\tvalid_0's binary_error: 0.15894\n",
            "[81]\tvalid_0's binary_error: 0.158113\n",
            "[82]\tvalid_0's binary_error: 0.158113\n",
            "[83]\tvalid_0's binary_error: 0.159768\n",
            "[84]\tvalid_0's binary_error: 0.159768\n",
            "[85]\tvalid_0's binary_error: 0.159768\n",
            "[86]\tvalid_0's binary_error: 0.15894\n",
            "[87]\tvalid_0's binary_error: 0.157285\n",
            "[88]\tvalid_0's binary_error: 0.156457\n",
            "[89]\tvalid_0's binary_error: 0.156457\n",
            "[90]\tvalid_0's binary_error: 0.155629\n",
            "[91]\tvalid_0's binary_error: 0.154801\n",
            "[92]\tvalid_0's binary_error: 0.155629\n",
            "[93]\tvalid_0's binary_error: 0.156457\n",
            "[94]\tvalid_0's binary_error: 0.157285\n",
            "[95]\tvalid_0's binary_error: 0.15894\n",
            "Acuracy 0.8410596026490066\n",
            "__________\n",
            "Recall 0.4520547945205479\n",
            "__________\n",
            "F1 Score 0.40740740740740733\n",
            "__________\n"
          ]
        },
        {
          "output_type": "display_data",
          "data": {
            "image/png": "[encoded data removed]",
            "text/plain": [
              "<Figure size 432x288 with 2 Axes>"
            ]
          },
          "metadata": {
            "needs_background": "light"
          }
        },
        {
          "output_type": "display_data",
          "data": {
            "image/png": "[encoded data removed]",
            "text/plain": [
              "<Figure size 576x360 with 1 Axes>"
            ]
          },
          "metadata": {
            "needs_background": "light"
          }
        },
        {
          "output_type": "stream",
          "name": "stdout",
          "text": [
            "\n",
            "Validation auc: 0.8198636586435518\n",
            "================================Fold 9====================================\n",
            "[1]\tvalid_0's binary_error: 0.120861\n",
            "[2]\tvalid_0's binary_error: 0.11755\n",
            "[3]\tvalid_0's binary_error: 0.115066\n",
            "[4]\tvalid_0's binary_error: 0.122517\n",
            "[5]\tvalid_0's binary_error: 0.122517\n",
            "[6]\tvalid_0's binary_error: 0.135762\n",
            "[7]\tvalid_0's binary_error: 0.146523\n",
            "[8]\tvalid_0's binary_error: 0.153146\n",
            "[9]\tvalid_0's binary_error: 0.159768\n",
            "[10]\tvalid_0's binary_error: 0.17053\n",
            "[11]\tvalid_0's binary_error: 0.168874\n",
            "[12]\tvalid_0's binary_error: 0.168046\n",
            "[13]\tvalid_0's binary_error: 0.171358\n",
            "[14]\tvalid_0's binary_error: 0.172185\n",
            "[15]\tvalid_0's binary_error: 0.173841\n",
            "[16]\tvalid_0's binary_error: 0.173841\n",
            "[17]\tvalid_0's binary_error: 0.174669\n",
            "[18]\tvalid_0's binary_error: 0.171358\n",
            "[19]\tvalid_0's binary_error: 0.172185\n",
            "[20]\tvalid_0's binary_error: 0.17053\n",
            "[21]\tvalid_0's binary_error: 0.171358\n",
            "[22]\tvalid_0's binary_error: 0.173841\n",
            "[23]\tvalid_0's binary_error: 0.17053\n",
            "[24]\tvalid_0's binary_error: 0.167219\n",
            "[25]\tvalid_0's binary_error: 0.168046\n",
            "[26]\tvalid_0's binary_error: 0.169702\n",
            "[27]\tvalid_0's binary_error: 0.168046\n",
            "[28]\tvalid_0's binary_error: 0.166391\n",
            "[29]\tvalid_0's binary_error: 0.168046\n",
            "[30]\tvalid_0's binary_error: 0.168046\n",
            "[31]\tvalid_0's binary_error: 0.168874\n",
            "[32]\tvalid_0's binary_error: 0.169702\n",
            "[33]\tvalid_0's binary_error: 0.172185\n",
            "[34]\tvalid_0's binary_error: 0.174669\n",
            "[35]\tvalid_0's binary_error: 0.175497\n",
            "[36]\tvalid_0's binary_error: 0.174669\n",
            "[37]\tvalid_0's binary_error: 0.175497\n",
            "[38]\tvalid_0's binary_error: 0.176325\n",
            "[39]\tvalid_0's binary_error: 0.175497\n",
            "[40]\tvalid_0's binary_error: 0.173841\n",
            "[41]\tvalid_0's binary_error: 0.173013\n",
            "[42]\tvalid_0's binary_error: 0.173841\n",
            "[43]\tvalid_0's binary_error: 0.173841\n",
            "[44]\tvalid_0's binary_error: 0.172185\n",
            "[45]\tvalid_0's binary_error: 0.172185\n",
            "[46]\tvalid_0's binary_error: 0.173013\n",
            "[47]\tvalid_0's binary_error: 0.172185\n",
            "[48]\tvalid_0's binary_error: 0.173013\n",
            "[49]\tvalid_0's binary_error: 0.171358\n",
            "[50]\tvalid_0's binary_error: 0.172185\n",
            "[51]\tvalid_0's binary_error: 0.171358\n",
            "[52]\tvalid_0's binary_error: 0.169702\n",
            "[53]\tvalid_0's binary_error: 0.169702\n",
            "[54]\tvalid_0's binary_error: 0.168874\n",
            "[55]\tvalid_0's binary_error: 0.169702\n",
            "[56]\tvalid_0's binary_error: 0.169702\n",
            "[57]\tvalid_0's binary_error: 0.169702\n",
            "[58]\tvalid_0's binary_error: 0.171358\n",
            "[59]\tvalid_0's binary_error: 0.171358\n",
            "[60]\tvalid_0's binary_error: 0.169702\n",
            "[61]\tvalid_0's binary_error: 0.168046\n",
            "[62]\tvalid_0's binary_error: 0.17053\n",
            "[63]\tvalid_0's binary_error: 0.169702\n",
            "[64]\tvalid_0's binary_error: 0.169702\n",
            "[65]\tvalid_0's binary_error: 0.17053\n",
            "[66]\tvalid_0's binary_error: 0.167219\n",
            "[67]\tvalid_0's binary_error: 0.168874\n",
            "[68]\tvalid_0's binary_error: 0.168046\n",
            "[69]\tvalid_0's binary_error: 0.163907\n",
            "[70]\tvalid_0's binary_error: 0.166391\n",
            "[71]\tvalid_0's binary_error: 0.163907\n",
            "[72]\tvalid_0's binary_error: 0.163907\n",
            "[73]\tvalid_0's binary_error: 0.164735\n",
            "[74]\tvalid_0's binary_error: 0.163079\n",
            "[75]\tvalid_0's binary_error: 0.162252\n",
            "[76]\tvalid_0's binary_error: 0.162252\n",
            "[77]\tvalid_0's binary_error: 0.163907\n",
            "[78]\tvalid_0's binary_error: 0.163907\n",
            "[79]\tvalid_0's binary_error: 0.163907\n",
            "[80]\tvalid_0's binary_error: 0.164735\n",
            "[81]\tvalid_0's binary_error: 0.165563\n",
            "[82]\tvalid_0's binary_error: 0.163079\n",
            "[83]\tvalid_0's binary_error: 0.160596\n",
            "[84]\tvalid_0's binary_error: 0.15894\n",
            "[85]\tvalid_0's binary_error: 0.15894\n",
            "[86]\tvalid_0's binary_error: 0.157285\n",
            "[87]\tvalid_0's binary_error: 0.15894\n",
            "[88]\tvalid_0's binary_error: 0.158113\n",
            "[89]\tvalid_0's binary_error: 0.159768\n",
            "[90]\tvalid_0's binary_error: 0.159768\n",
            "[91]\tvalid_0's binary_error: 0.159768\n",
            "[92]\tvalid_0's binary_error: 0.159768\n",
            "[93]\tvalid_0's binary_error: 0.159768\n",
            "[94]\tvalid_0's binary_error: 0.159768\n",
            "[95]\tvalid_0's binary_error: 0.15894\n",
            "Acuracy 0.8410596026490066\n",
            "__________\n",
            "Recall 0.4726027397260274\n",
            "__________\n",
            "F1 Score 0.4181818181818182\n",
            "__________\n"
          ]
        },
        {
          "output_type": "display_data",
          "data": {
            "image/png": "[encoded data removed]",
            "text/plain": [
              "<Figure size 432x288 with 2 Axes>"
            ]
          },
          "metadata": {
            "needs_background": "light"
          }
        },
        {
          "output_type": "display_data",
          "data": {
            "image/png": "[encoded data removed]",
            "text/plain": [
              "<Figure size 576x360 with 1 Axes>"
            ]
          },
          "metadata": {
            "needs_background": "light"
          }
        },
        {
          "output_type": "stream",
          "name": "stdout",
          "text": [
            "\n",
            "Validation auc: 0.8173354745504735\n",
            "================================Fold 10====================================\n",
            "[1]\tvalid_0's binary_error: 0.120133\n",
            "[2]\tvalid_0's binary_error: 0.119304\n",
            "[3]\tvalid_0's binary_error: 0.118476\n",
            "[4]\tvalid_0's binary_error: 0.125104\n",
            "[5]\tvalid_0's binary_error: 0.13256\n",
            "[6]\tvalid_0's binary_error: 0.136703\n",
            "[7]\tvalid_0's binary_error: 0.137531\n",
            "[8]\tvalid_0's binary_error: 0.147473\n",
            "[9]\tvalid_0's binary_error: 0.169014\n",
            "[10]\tvalid_0's binary_error: 0.177299\n",
            "[11]\tvalid_0's binary_error: 0.173985\n",
            "[12]\tvalid_0's binary_error: 0.178128\n",
            "[13]\tvalid_0's binary_error: 0.185584\n",
            "[14]\tvalid_0's binary_error: 0.186413\n",
            "[15]\tvalid_0's binary_error: 0.186413\n",
            "[16]\tvalid_0's binary_error: 0.183927\n",
            "[17]\tvalid_0's binary_error: 0.180613\n",
            "[18]\tvalid_0's binary_error: 0.183099\n",
            "[19]\tvalid_0's binary_error: 0.179785\n",
            "[20]\tvalid_0's binary_error: 0.177299\n",
            "[21]\tvalid_0's binary_error: 0.176471\n",
            "[22]\tvalid_0's binary_error: 0.176471\n",
            "[23]\tvalid_0's binary_error: 0.176471\n",
            "[24]\tvalid_0's binary_error: 0.177299\n",
            "[25]\tvalid_0's binary_error: 0.178128\n",
            "[26]\tvalid_0's binary_error: 0.176471\n",
            "[27]\tvalid_0's binary_error: 0.176471\n",
            "[28]\tvalid_0's binary_error: 0.181442\n",
            "[29]\tvalid_0's binary_error: 0.178956\n",
            "[30]\tvalid_0's binary_error: 0.180613\n",
            "[31]\tvalid_0's binary_error: 0.176471\n",
            "[32]\tvalid_0's binary_error: 0.178956\n",
            "[33]\tvalid_0's binary_error: 0.175642\n",
            "[34]\tvalid_0's binary_error: 0.180613\n",
            "[35]\tvalid_0's binary_error: 0.179785\n",
            "[36]\tvalid_0's binary_error: 0.181442\n",
            "[37]\tvalid_0's binary_error: 0.178956\n",
            "[38]\tvalid_0's binary_error: 0.180613\n",
            "[39]\tvalid_0's binary_error: 0.178956\n",
            "[40]\tvalid_0's binary_error: 0.176471\n",
            "[41]\tvalid_0's binary_error: 0.172328\n",
            "[42]\tvalid_0's binary_error: 0.173985\n",
            "[43]\tvalid_0's binary_error: 0.174814\n",
            "[44]\tvalid_0's binary_error: 0.173985\n",
            "[45]\tvalid_0's binary_error: 0.173985\n",
            "[46]\tvalid_0's binary_error: 0.172328\n",
            "[47]\tvalid_0's binary_error: 0.173157\n",
            "[48]\tvalid_0's binary_error: 0.169014\n",
            "[49]\tvalid_0's binary_error: 0.170671\n",
            "[50]\tvalid_0's binary_error: 0.1715\n",
            "[51]\tvalid_0's binary_error: 0.170671\n",
            "[52]\tvalid_0's binary_error: 0.170671\n",
            "[53]\tvalid_0's binary_error: 0.173157\n",
            "[54]\tvalid_0's binary_error: 0.172328\n",
            "[55]\tvalid_0's binary_error: 0.169014\n",
            "[56]\tvalid_0's binary_error: 0.170671\n",
            "[57]\tvalid_0's binary_error: 0.170671\n",
            "[58]\tvalid_0's binary_error: 0.169843\n",
            "[59]\tvalid_0's binary_error: 0.1715\n",
            "[60]\tvalid_0's binary_error: 0.170671\n",
            "[61]\tvalid_0's binary_error: 0.169014\n",
            "[62]\tvalid_0's binary_error: 0.1715\n",
            "[63]\tvalid_0's binary_error: 0.169843\n",
            "[64]\tvalid_0's binary_error: 0.169014\n",
            "[65]\tvalid_0's binary_error: 0.169843\n",
            "[66]\tvalid_0's binary_error: 0.1715\n",
            "[67]\tvalid_0's binary_error: 0.172328\n",
            "[68]\tvalid_0's binary_error: 0.167357\n",
            "[69]\tvalid_0's binary_error: 0.1657\n",
            "[70]\tvalid_0's binary_error: 0.1657\n",
            "[71]\tvalid_0's binary_error: 0.164872\n",
            "[72]\tvalid_0's binary_error: 0.166529\n",
            "[73]\tvalid_0's binary_error: 0.1657\n",
            "[74]\tvalid_0's binary_error: 0.1657\n",
            "[75]\tvalid_0's binary_error: 0.166529\n",
            "[76]\tvalid_0's binary_error: 0.167357\n",
            "[77]\tvalid_0's binary_error: 0.168186\n",
            "[78]\tvalid_0's binary_error: 0.166529\n",
            "[79]\tvalid_0's binary_error: 0.164043\n",
            "[80]\tvalid_0's binary_error: 0.1657\n",
            "[81]\tvalid_0's binary_error: 0.166529\n",
            "[82]\tvalid_0's binary_error: 0.1657\n",
            "[83]\tvalid_0's binary_error: 0.163215\n",
            "[84]\tvalid_0's binary_error: 0.162386\n",
            "[85]\tvalid_0's binary_error: 0.162386\n",
            "[86]\tvalid_0's binary_error: 0.159901\n",
            "[87]\tvalid_0's binary_error: 0.164043\n",
            "[88]\tvalid_0's binary_error: 0.1657\n",
            "[89]\tvalid_0's binary_error: 0.166529\n",
            "[90]\tvalid_0's binary_error: 0.166529\n",
            "[91]\tvalid_0's binary_error: 0.166529\n",
            "[92]\tvalid_0's binary_error: 0.164872\n",
            "[93]\tvalid_0's binary_error: 0.161558\n",
            "[94]\tvalid_0's binary_error: 0.161558\n",
            "[95]\tvalid_0's binary_error: 0.162386\n",
            "Acuracy 0.8376139188069595\n",
            "__________\n",
            "Recall 0.4206896551724138\n",
            "__________\n",
            "F1 Score 0.38364779874213834\n",
            "__________\n"
          ]
        },
        {
          "output_type": "display_data",
          "data": {
            "image/png": "[encoded data removed]",
            "text/plain": [
              "<Figure size 432x288 with 2 Axes>"
            ]
          },
          "metadata": {
            "needs_background": "light"
          }
        },
        {
          "output_type": "display_data",
          "data": {
            "image/png": "[encoded data removed]",
            "text/plain": [
              "<Figure size 576x360 with 1 Axes>"
            ]
          },
          "metadata": {
            "needs_background": "light"
          }
        },
        {
          "output_type": "stream",
          "name": "stdout",
          "text": [
            "\n",
            "Validation auc: 0.7959023313202157\n",
            "Mean AUC  0.796884152230698\n",
            "Mean f1  0.3820982485713493\n"
          ]
        }
      ]
    },
    {
      "cell_type": "code",
      "source": [
        "test_preds_lgbm"
      ],
      "metadata": {
        "colab": {
          "base_uri": "https://localhost:8080/"
        },
        "id": "G-hgveelUxz9",
        "outputId": "1f6e41bb-1b3f-47c3-98c5-d7a7ec6641ae"
      },
      "execution_count": null,
      "outputs": [
        {
          "output_type": "execute_result",
          "data": {
            "text/plain": [
              "array([0.13061384, 0.06893737, 0.04513665, ..., 0.33842979, 0.04673997,\n",
              "       0.67915136])"
            ]
          },
          "metadata": {},
          "execution_count": 43
        }
      ]
    },
    {
      "cell_type": "code",
      "source": [
        "y_preds_cat, test_preds_cat = training_model(catboost, \"catboost\", train, test)"
      ],
      "metadata": {
        "id": "IxZQr-RFEFHH"
      },
      "execution_count": null,
      "outputs": []
    },
    {
      "cell_type": "code",
      "source": [
        "predictions = ss.copy()(\n",
        "predictions.target = (test_preds_lgbm*0.8) + (test_preds_cat*0.2)"
      ],
      "metadata": {
        "id": "f6ifpr5TUx24"
      },
      "execution_count": null,
      "outputs": []
    },
    {
      "cell_type": "code",
      "source": [
        "for i in range(len(predictions.target)):\n",
        "  if predictions.target[i] >= 0.5:\n",
        "    predictions.target[i] = 1\n",
        "  else:\n",
        "    predictions.target[i] = 0\n",
        "predictions"
      ],
      "metadata": {
        "id": "HZpqMjTgoH88"
      },
      "execution_count": null,
      "outputs": []
    },
    {
      "cell_type": "code",
      "source": [
        "predictions.to_csv('predictions_autoinland.csv', index=False)"
      ],
      "metadata": {
        "id": "3fVPDbePoIAE"
      },
      "execution_count": null,
      "outputs": []
    }
  ]
}